{
 "cells": [
  {
   "cell_type": "markdown",
   "source": [
    "# Lecture 03 (2/2): Integer Programming\n",
    "Let's consider an optimization problem where we want to form pairs of students for Assignment 1"
   ],
   "metadata": {
    "collapsed": false,
    "pycharm": {
     "name": "#%% md\n"
    }
   }
  },
  {
   "cell_type": "markdown",
   "source": [
    "## Constraints\n",
    "We set a set of constraints and find an optimal formation of assignment pairs"
   ],
   "metadata": {
    "collapsed": false,
    "pycharm": {
     "name": "#%% md\n"
    }
   }
  },
  {
   "cell_type": "code",
   "execution_count": 34,
   "metadata": {
    "collapsed": true
   },
   "outputs": [],
   "source": [
    "import pulp\n",
    "import numpy as np"
   ]
  },
  {
   "cell_type": "code",
   "execution_count": 35,
   "outputs": [
    {
     "data": {
      "text/plain": "array([ 0,  1,  2,  3,  4,  5,  6,  7,  8,  9, 10, 11, 12, 13, 14, 15, 16,\n       17, 18, 19])"
     },
     "execution_count": 35,
     "metadata": {},
     "output_type": "execute_result"
    }
   ],
   "source": [
    "students = np.arange(20)\n",
    "students"
   ],
   "metadata": {
    "collapsed": false,
    "pycharm": {
     "name": "#%%\n"
    }
   }
  },
  {
   "cell_type": "code",
   "execution_count": 36,
   "outputs": [
    {
     "data": {
      "text/plain": "[(0, 0),\n (0, 1),\n (0, 2),\n (0, 3),\n (0, 4),\n (0, 5),\n (0, 6),\n (0, 7),\n (0, 8),\n (0, 9),\n (0, 10),\n (0, 11),\n (0, 12),\n (0, 13),\n (0, 14),\n (0, 15),\n (0, 16),\n (0, 17),\n (0, 18),\n (0, 19),\n (1, 0),\n (1, 1),\n (1, 2),\n (1, 3),\n (1, 4),\n (1, 5),\n (1, 6),\n (1, 7),\n (1, 8),\n (1, 9),\n (1, 10),\n (1, 11),\n (1, 12),\n (1, 13),\n (1, 14),\n (1, 15),\n (1, 16),\n (1, 17),\n (1, 18),\n (1, 19),\n (2, 0),\n (2, 1),\n (2, 2),\n (2, 3),\n (2, 4),\n (2, 5),\n (2, 6),\n (2, 7),\n (2, 8),\n (2, 9),\n (2, 10),\n (2, 11),\n (2, 12),\n (2, 13),\n (2, 14),\n (2, 15),\n (2, 16),\n (2, 17),\n (2, 18),\n (2, 19),\n (3, 0),\n (3, 1),\n (3, 2),\n (3, 3),\n (3, 4),\n (3, 5),\n (3, 6),\n (3, 7),\n (3, 8),\n (3, 9),\n (3, 10),\n (3, 11),\n (3, 12),\n (3, 13),\n (3, 14),\n (3, 15),\n (3, 16),\n (3, 17),\n (3, 18),\n (3, 19),\n (4, 0),\n (4, 1),\n (4, 2),\n (4, 3),\n (4, 4),\n (4, 5),\n (4, 6),\n (4, 7),\n (4, 8),\n (4, 9),\n (4, 10),\n (4, 11),\n (4, 12),\n (4, 13),\n (4, 14),\n (4, 15),\n (4, 16),\n (4, 17),\n (4, 18),\n (4, 19),\n (5, 0),\n (5, 1),\n (5, 2),\n (5, 3),\n (5, 4),\n (5, 5),\n (5, 6),\n (5, 7),\n (5, 8),\n (5, 9),\n (5, 10),\n (5, 11),\n (5, 12),\n (5, 13),\n (5, 14),\n (5, 15),\n (5, 16),\n (5, 17),\n (5, 18),\n (5, 19),\n (6, 0),\n (6, 1),\n (6, 2),\n (6, 3),\n (6, 4),\n (6, 5),\n (6, 6),\n (6, 7),\n (6, 8),\n (6, 9),\n (6, 10),\n (6, 11),\n (6, 12),\n (6, 13),\n (6, 14),\n (6, 15),\n (6, 16),\n (6, 17),\n (6, 18),\n (6, 19),\n (7, 0),\n (7, 1),\n (7, 2),\n (7, 3),\n (7, 4),\n (7, 5),\n (7, 6),\n (7, 7),\n (7, 8),\n (7, 9),\n (7, 10),\n (7, 11),\n (7, 12),\n (7, 13),\n (7, 14),\n (7, 15),\n (7, 16),\n (7, 17),\n (7, 18),\n (7, 19),\n (8, 0),\n (8, 1),\n (8, 2),\n (8, 3),\n (8, 4),\n (8, 5),\n (8, 6),\n (8, 7),\n (8, 8),\n (8, 9),\n (8, 10),\n (8, 11),\n (8, 12),\n (8, 13),\n (8, 14),\n (8, 15),\n (8, 16),\n (8, 17),\n (8, 18),\n (8, 19),\n (9, 0),\n (9, 1),\n (9, 2),\n (9, 3),\n (9, 4),\n (9, 5),\n (9, 6),\n (9, 7),\n (9, 8),\n (9, 9),\n (9, 10),\n (9, 11),\n (9, 12),\n (9, 13),\n (9, 14),\n (9, 15),\n (9, 16),\n (9, 17),\n (9, 18),\n (9, 19),\n (10, 0),\n (10, 1),\n (10, 2),\n (10, 3),\n (10, 4),\n (10, 5),\n (10, 6),\n (10, 7),\n (10, 8),\n (10, 9),\n (10, 10),\n (10, 11),\n (10, 12),\n (10, 13),\n (10, 14),\n (10, 15),\n (10, 16),\n (10, 17),\n (10, 18),\n (10, 19),\n (11, 0),\n (11, 1),\n (11, 2),\n (11, 3),\n (11, 4),\n (11, 5),\n (11, 6),\n (11, 7),\n (11, 8),\n (11, 9),\n (11, 10),\n (11, 11),\n (11, 12),\n (11, 13),\n (11, 14),\n (11, 15),\n (11, 16),\n (11, 17),\n (11, 18),\n (11, 19),\n (12, 0),\n (12, 1),\n (12, 2),\n (12, 3),\n (12, 4),\n (12, 5),\n (12, 6),\n (12, 7),\n (12, 8),\n (12, 9),\n (12, 10),\n (12, 11),\n (12, 12),\n (12, 13),\n (12, 14),\n (12, 15),\n (12, 16),\n (12, 17),\n (12, 18),\n (12, 19),\n (13, 0),\n (13, 1),\n (13, 2),\n (13, 3),\n (13, 4),\n (13, 5),\n (13, 6),\n (13, 7),\n (13, 8),\n (13, 9),\n (13, 10),\n (13, 11),\n (13, 12),\n (13, 13),\n (13, 14),\n (13, 15),\n (13, 16),\n (13, 17),\n (13, 18),\n (13, 19),\n (14, 0),\n (14, 1),\n (14, 2),\n (14, 3),\n (14, 4),\n (14, 5),\n (14, 6),\n (14, 7),\n (14, 8),\n (14, 9),\n (14, 10),\n (14, 11),\n (14, 12),\n (14, 13),\n (14, 14),\n (14, 15),\n (14, 16),\n (14, 17),\n (14, 18),\n (14, 19),\n (15, 0),\n (15, 1),\n (15, 2),\n (15, 3),\n (15, 4),\n (15, 5),\n (15, 6),\n (15, 7),\n (15, 8),\n (15, 9),\n (15, 10),\n (15, 11),\n (15, 12),\n (15, 13),\n (15, 14),\n (15, 15),\n (15, 16),\n (15, 17),\n (15, 18),\n (15, 19),\n (16, 0),\n (16, 1),\n (16, 2),\n (16, 3),\n (16, 4),\n (16, 5),\n (16, 6),\n (16, 7),\n (16, 8),\n (16, 9),\n (16, 10),\n (16, 11),\n (16, 12),\n (16, 13),\n (16, 14),\n (16, 15),\n (16, 16),\n (16, 17),\n (16, 18),\n (16, 19),\n (17, 0),\n (17, 1),\n (17, 2),\n (17, 3),\n (17, 4),\n (17, 5),\n (17, 6),\n (17, 7),\n (17, 8),\n (17, 9),\n (17, 10),\n (17, 11),\n (17, 12),\n (17, 13),\n (17, 14),\n (17, 15),\n (17, 16),\n (17, 17),\n (17, 18),\n (17, 19),\n (18, 0),\n (18, 1),\n (18, 2),\n (18, 3),\n (18, 4),\n (18, 5),\n (18, 6),\n (18, 7),\n (18, 8),\n (18, 9),\n (18, 10),\n (18, 11),\n (18, 12),\n (18, 13),\n (18, 14),\n (18, 15),\n (18, 16),\n (18, 17),\n (18, 18),\n (18, 19),\n (19, 0),\n (19, 1),\n (19, 2),\n (19, 3),\n (19, 4),\n (19, 5),\n (19, 6),\n (19, 7),\n (19, 8),\n (19, 9),\n (19, 10),\n (19, 11),\n (19, 12),\n (19, 13),\n (19, 14),\n (19, 15),\n (19, 16),\n (19, 17),\n (19, 18),\n (19, 19)]"
     },
     "execution_count": 36,
     "metadata": {},
     "output_type": "execute_result"
    }
   ],
   "source": [
    "from itertools import product\n",
    "ss = list(product(students, students))\n",
    "ss"
   ],
   "metadata": {
    "collapsed": false,
    "pycharm": {
     "name": "#%%\n"
    }
   }
  },
  {
   "cell_type": "code",
   "execution_count": 37,
   "outputs": [],
   "source": [
    "prob = pulp.LpProblem('AssignmentPair', pulp.LpMaximize)\n",
    "\n",
    "pair = pulp.LpVariable.dicts('pair', ss, cat='Binary')\n",
    "\n",
    "# Each student can only find one partner\n",
    "for s in students:\n",
    "    prob += pulp.lpSum([pair[s, s2] for s2 in students]) == 1\n",
    "\n",
    "# The partnership needs to be symmetric\n",
    "for _ss in ss:\n",
    "    prob += pair[_ss[0], _ss[1]] - pair[_ss[1], _ss[0]] == 0\n",
    "\n",
    "# Some students have already formed a pair\n",
    "fixed_pairs = [(2, 3), (4, 5), (6, 7)]\n",
    "for fp in fixed_pairs:\n",
    "    prob += pair[fp[0], fp[1]] == 1\n"
   ],
   "metadata": {
    "collapsed": false,
    "pycharm": {
     "name": "#%%\n"
    }
   }
  },
  {
   "cell_type": "code",
   "execution_count": 38,
   "outputs": [
    {
     "name": "stdout",
     "output_type": "stream",
     "text": [
      "Welcome to the CBC MILP Solver \n",
      "Version: 2.10.3 \n",
      "Build Date: Dec 15 2019 \n",
      "\n",
      "command line - /Users/kotarohara/repo/Python/web-optimization/venv/lib/python3.9/site-packages/pulp/apis/../solverdir/cbc/osx/64/cbc /var/folders/4_/vrr8kzqn5b9dxsprxn13022m0000gn/T/cf26dcc433a44595ab45648694c3dd3c-pulp.mps max timeMode elapsed branch printingOptions all solution /var/folders/4_/vrr8kzqn5b9dxsprxn13022m0000gn/T/cf26dcc433a44595ab45648694c3dd3c-pulp.sol (default strategy 1)\n",
      "At line 2 NAME          MODEL\n",
      "At line 3 ROWS\n",
      "At line 429 COLUMNS\n",
      "At line 2415 RHS\n",
      "At line 2840 BOUNDS\n",
      "At line 3242 ENDATA\n",
      "Problem MODEL has 424 rows, 401 columns and 1164 elements\n",
      "Coin0008I MODEL read with 0 errors\n",
      "Option for timeMode changed from cpu to elapsed\n",
      "Continuous objective value is 0 - 0.00 seconds\n",
      "Cgl0004I processed model has 13 rows, 91 columns (91 integer (91 of which binary)) and 169 elements\n",
      "Cbc0038I Initial state - 3 integers unsatisfied sum - 1.5\n",
      "Cbc0038I Pass   1: suminf.    0.00000 (0) obj. 0 iterations 8\n",
      "Cbc0038I Solution found of 0\n",
      "Cbc0038I Before mini branch and bound, 75 integers at bound fixed and 10 continuous\n",
      "Cbc0038I Mini branch and bound did not improve solution (0.02 seconds)\n",
      "Cbc0038I After 0.02 seconds - Feasibility pump exiting with objective of 0 - took 0.00 seconds\n",
      "Cbc0012I Integer solution of 0 found by feasibility pump after 0 iterations and 0 nodes (0.02 seconds)\n",
      "Cbc0001I Search completed - best objective 0, took 0 iterations and 0 nodes (0.02 seconds)\n",
      "Cbc0035I Maximum depth 0, 0 variables fixed on reduced cost\n",
      "Cuts at root node changed objective from 0 to 0\n",
      "Probing was tried 0 times and created 0 cuts of which 0 were active after adding rounds of cuts (0.000 seconds)\n",
      "Gomory was tried 0 times and created 0 cuts of which 0 were active after adding rounds of cuts (0.000 seconds)\n",
      "Knapsack was tried 0 times and created 0 cuts of which 0 were active after adding rounds of cuts (0.000 seconds)\n",
      "Clique was tried 0 times and created 0 cuts of which 0 were active after adding rounds of cuts (0.000 seconds)\n",
      "MixedIntegerRounding2 was tried 0 times and created 0 cuts of which 0 were active after adding rounds of cuts (0.000 seconds)\n",
      "FlowCover was tried 0 times and created 0 cuts of which 0 were active after adding rounds of cuts (0.000 seconds)\n",
      "TwoMirCuts was tried 0 times and created 0 cuts of which 0 were active after adding rounds of cuts (0.000 seconds)\n",
      "ZeroHalf was tried 0 times and created 0 cuts of which 0 were active after adding rounds of cuts (0.000 seconds)\n",
      "\n",
      "Result - Optimal solution found\n",
      "\n",
      "Objective value:                -0.00000000\n",
      "Enumerated nodes:               0\n",
      "Total iterations:               0\n",
      "Time (CPU seconds):             0.01\n",
      "Time (Wallclock seconds):       0.02\n",
      "\n",
      "Option for printingOptions changed from normal to all\n",
      "Total time (CPU seconds):       0.01   (Wallclock seconds):       0.03\n",
      "\n"
     ]
    },
    {
     "data": {
      "text/plain": "'Optimal'"
     },
     "execution_count": 38,
     "metadata": {},
     "output_type": "execute_result"
    }
   ],
   "source": [
    "status = prob.solve()\n",
    "pulp.LpStatus[status]"
   ],
   "metadata": {
    "collapsed": false,
    "pycharm": {
     "name": "#%%\n"
    }
   }
  },
  {
   "cell_type": "code",
   "execution_count": 39,
   "outputs": [
    {
     "name": "stdout",
     "output_type": "stream",
     "text": [
      "pair_(0,_10)\n",
      "1.0\n",
      "\n",
      "pair_(1,_1)\n",
      "1.0\n",
      "\n",
      "pair_(2,_3)\n",
      "1.0\n",
      "\n",
      "pair_(3,_2)\n",
      "1.0\n",
      "\n",
      "pair_(4,_5)\n",
      "1.0\n",
      "\n",
      "pair_(5,_4)\n",
      "1.0\n",
      "\n",
      "pair_(6,_7)\n",
      "1.0\n",
      "\n",
      "pair_(7,_6)\n",
      "1.0\n",
      "\n",
      "pair_(8,_19)\n",
      "1.0\n",
      "\n",
      "pair_(9,_9)\n",
      "1.0\n",
      "\n",
      "pair_(10,_0)\n",
      "1.0\n",
      "\n",
      "pair_(11,_12)\n",
      "1.0\n",
      "\n",
      "pair_(12,_11)\n",
      "1.0\n",
      "\n",
      "pair_(13,_14)\n",
      "1.0\n",
      "\n",
      "pair_(14,_13)\n",
      "1.0\n",
      "\n",
      "pair_(15,_15)\n",
      "1.0\n",
      "\n",
      "pair_(16,_16)\n",
      "1.0\n",
      "\n",
      "pair_(17,_18)\n",
      "1.0\n",
      "\n",
      "pair_(18,_17)\n",
      "1.0\n",
      "\n",
      "pair_(19,_8)\n",
      "1.0\n",
      "\n"
     ]
    }
   ],
   "source": [
    "for key in ss:\n",
    "    if pair[key].value() > 0:\n",
    "        print(pair[key])\n",
    "        print(pair[key].value())\n",
    "        print()"
   ],
   "metadata": {
    "collapsed": false,
    "pycharm": {
     "name": "#%%\n"
    }
   }
  },
  {
   "cell_type": "markdown",
   "source": [
    "## Objective\n",
    "In addition to the constraints, let's add objective. Let's say we want to encourage a PhD student and a non-PhD student to work together."
   ],
   "metadata": {
    "collapsed": false,
    "pycharm": {
     "name": "#%% md\n"
    }
   }
  },
  {
   "cell_type": "code",
   "execution_count": 69,
   "outputs": [
    {
     "data": {
      "text/plain": "[0, 1, 2, 3, 4, 5, 6, 7, 8, 9, 10, 11, 12, 13, 14, 15, 16, 17, 18, 19]"
     },
     "execution_count": 69,
     "metadata": {},
     "output_type": "execute_result"
    }
   ],
   "source": [
    "students = [\n",
    "    { \"id\": 0, \"program\": \"master\" },\n",
    "    { \"id\": 1, \"program\": \"master\" },\n",
    "    { \"id\": 2, \"program\": \"master\" },\n",
    "    { \"id\": 3, \"program\": \"master\" },\n",
    "    { \"id\": 4, \"program\": \"master\" },\n",
    "    { \"id\": 5, \"program\": \"master\" },\n",
    "    { \"id\": 6, \"program\": \"master\" },\n",
    "    { \"id\": 7, \"program\": \"master\" },\n",
    "    { \"id\": 8, \"program\": \"master\" },\n",
    "    { \"id\": 9, \"program\": \"master\" },\n",
    "    { \"id\": 10, \"program\": \"phd\" },\n",
    "    { \"id\": 11, \"program\": \"phd\" },\n",
    "    { \"id\": 12, \"program\": \"phd\" },\n",
    "    { \"id\": 13, \"program\": \"phd\" },\n",
    "    { \"id\": 14, \"program\": \"phd\" },\n",
    "    { \"id\": 15, \"program\": \"phd\" },\n",
    "    { \"id\": 16, \"program\": \"phd\" },\n",
    "    { \"id\": 17, \"program\": \"phd\" },\n",
    "    { \"id\": 18, \"program\": \"phd\" },\n",
    "    { \"id\": 19, \"program\": \"phd\" },\n",
    "]\n",
    "sids = [s[\"id\"] for s in students]\n",
    "sids"
   ],
   "metadata": {
    "collapsed": false,
    "pycharm": {
     "name": "#%%\n"
    }
   }
  },
  {
   "cell_type": "code",
   "execution_count": 70,
   "outputs": [
    {
     "data": {
      "text/plain": "[(0, 0),\n (0, 1),\n (0, 2),\n (0, 3),\n (0, 4),\n (0, 5),\n (0, 6),\n (0, 7),\n (0, 8),\n (0, 9),\n (0, 10),\n (0, 11),\n (0, 12),\n (0, 13),\n (0, 14),\n (0, 15),\n (0, 16),\n (0, 17),\n (0, 18),\n (0, 19),\n (1, 0),\n (1, 1),\n (1, 2),\n (1, 3),\n (1, 4),\n (1, 5),\n (1, 6),\n (1, 7),\n (1, 8),\n (1, 9),\n (1, 10),\n (1, 11),\n (1, 12),\n (1, 13),\n (1, 14),\n (1, 15),\n (1, 16),\n (1, 17),\n (1, 18),\n (1, 19),\n (2, 0),\n (2, 1),\n (2, 2),\n (2, 3),\n (2, 4),\n (2, 5),\n (2, 6),\n (2, 7),\n (2, 8),\n (2, 9),\n (2, 10),\n (2, 11),\n (2, 12),\n (2, 13),\n (2, 14),\n (2, 15),\n (2, 16),\n (2, 17),\n (2, 18),\n (2, 19),\n (3, 0),\n (3, 1),\n (3, 2),\n (3, 3),\n (3, 4),\n (3, 5),\n (3, 6),\n (3, 7),\n (3, 8),\n (3, 9),\n (3, 10),\n (3, 11),\n (3, 12),\n (3, 13),\n (3, 14),\n (3, 15),\n (3, 16),\n (3, 17),\n (3, 18),\n (3, 19),\n (4, 0),\n (4, 1),\n (4, 2),\n (4, 3),\n (4, 4),\n (4, 5),\n (4, 6),\n (4, 7),\n (4, 8),\n (4, 9),\n (4, 10),\n (4, 11),\n (4, 12),\n (4, 13),\n (4, 14),\n (4, 15),\n (4, 16),\n (4, 17),\n (4, 18),\n (4, 19),\n (5, 0),\n (5, 1),\n (5, 2),\n (5, 3),\n (5, 4),\n (5, 5),\n (5, 6),\n (5, 7),\n (5, 8),\n (5, 9),\n (5, 10),\n (5, 11),\n (5, 12),\n (5, 13),\n (5, 14),\n (5, 15),\n (5, 16),\n (5, 17),\n (5, 18),\n (5, 19),\n (6, 0),\n (6, 1),\n (6, 2),\n (6, 3),\n (6, 4),\n (6, 5),\n (6, 6),\n (6, 7),\n (6, 8),\n (6, 9),\n (6, 10),\n (6, 11),\n (6, 12),\n (6, 13),\n (6, 14),\n (6, 15),\n (6, 16),\n (6, 17),\n (6, 18),\n (6, 19),\n (7, 0),\n (7, 1),\n (7, 2),\n (7, 3),\n (7, 4),\n (7, 5),\n (7, 6),\n (7, 7),\n (7, 8),\n (7, 9),\n (7, 10),\n (7, 11),\n (7, 12),\n (7, 13),\n (7, 14),\n (7, 15),\n (7, 16),\n (7, 17),\n (7, 18),\n (7, 19),\n (8, 0),\n (8, 1),\n (8, 2),\n (8, 3),\n (8, 4),\n (8, 5),\n (8, 6),\n (8, 7),\n (8, 8),\n (8, 9),\n (8, 10),\n (8, 11),\n (8, 12),\n (8, 13),\n (8, 14),\n (8, 15),\n (8, 16),\n (8, 17),\n (8, 18),\n (8, 19),\n (9, 0),\n (9, 1),\n (9, 2),\n (9, 3),\n (9, 4),\n (9, 5),\n (9, 6),\n (9, 7),\n (9, 8),\n (9, 9),\n (9, 10),\n (9, 11),\n (9, 12),\n (9, 13),\n (9, 14),\n (9, 15),\n (9, 16),\n (9, 17),\n (9, 18),\n (9, 19),\n (10, 0),\n (10, 1),\n (10, 2),\n (10, 3),\n (10, 4),\n (10, 5),\n (10, 6),\n (10, 7),\n (10, 8),\n (10, 9),\n (10, 10),\n (10, 11),\n (10, 12),\n (10, 13),\n (10, 14),\n (10, 15),\n (10, 16),\n (10, 17),\n (10, 18),\n (10, 19),\n (11, 0),\n (11, 1),\n (11, 2),\n (11, 3),\n (11, 4),\n (11, 5),\n (11, 6),\n (11, 7),\n (11, 8),\n (11, 9),\n (11, 10),\n (11, 11),\n (11, 12),\n (11, 13),\n (11, 14),\n (11, 15),\n (11, 16),\n (11, 17),\n (11, 18),\n (11, 19),\n (12, 0),\n (12, 1),\n (12, 2),\n (12, 3),\n (12, 4),\n (12, 5),\n (12, 6),\n (12, 7),\n (12, 8),\n (12, 9),\n (12, 10),\n (12, 11),\n (12, 12),\n (12, 13),\n (12, 14),\n (12, 15),\n (12, 16),\n (12, 17),\n (12, 18),\n (12, 19),\n (13, 0),\n (13, 1),\n (13, 2),\n (13, 3),\n (13, 4),\n (13, 5),\n (13, 6),\n (13, 7),\n (13, 8),\n (13, 9),\n (13, 10),\n (13, 11),\n (13, 12),\n (13, 13),\n (13, 14),\n (13, 15),\n (13, 16),\n (13, 17),\n (13, 18),\n (13, 19),\n (14, 0),\n (14, 1),\n (14, 2),\n (14, 3),\n (14, 4),\n (14, 5),\n (14, 6),\n (14, 7),\n (14, 8),\n (14, 9),\n (14, 10),\n (14, 11),\n (14, 12),\n (14, 13),\n (14, 14),\n (14, 15),\n (14, 16),\n (14, 17),\n (14, 18),\n (14, 19),\n (15, 0),\n (15, 1),\n (15, 2),\n (15, 3),\n (15, 4),\n (15, 5),\n (15, 6),\n (15, 7),\n (15, 8),\n (15, 9),\n (15, 10),\n (15, 11),\n (15, 12),\n (15, 13),\n (15, 14),\n (15, 15),\n (15, 16),\n (15, 17),\n (15, 18),\n (15, 19),\n (16, 0),\n (16, 1),\n (16, 2),\n (16, 3),\n (16, 4),\n (16, 5),\n (16, 6),\n (16, 7),\n (16, 8),\n (16, 9),\n (16, 10),\n (16, 11),\n (16, 12),\n (16, 13),\n (16, 14),\n (16, 15),\n (16, 16),\n (16, 17),\n (16, 18),\n (16, 19),\n (17, 0),\n (17, 1),\n (17, 2),\n (17, 3),\n (17, 4),\n (17, 5),\n (17, 6),\n (17, 7),\n (17, 8),\n (17, 9),\n (17, 10),\n (17, 11),\n (17, 12),\n (17, 13),\n (17, 14),\n (17, 15),\n (17, 16),\n (17, 17),\n (17, 18),\n (17, 19),\n (18, 0),\n (18, 1),\n (18, 2),\n (18, 3),\n (18, 4),\n (18, 5),\n (18, 6),\n (18, 7),\n (18, 8),\n (18, 9),\n (18, 10),\n (18, 11),\n (18, 12),\n (18, 13),\n (18, 14),\n (18, 15),\n (18, 16),\n (18, 17),\n (18, 18),\n (18, 19),\n (19, 0),\n (19, 1),\n (19, 2),\n (19, 3),\n (19, 4),\n (19, 5),\n (19, 6),\n (19, 7),\n (19, 8),\n (19, 9),\n (19, 10),\n (19, 11),\n (19, 12),\n (19, 13),\n (19, 14),\n (19, 15),\n (19, 16),\n (19, 17),\n (19, 18),\n (19, 19)]"
     },
     "execution_count": 70,
     "metadata": {},
     "output_type": "execute_result"
    }
   ],
   "source": [
    "from itertools import product\n",
    "ss = list(product(sids, sids))\n",
    "ss"
   ],
   "metadata": {
    "collapsed": false,
    "pycharm": {
     "name": "#%%\n"
    }
   }
  },
  {
   "cell_type": "code",
   "execution_count": 71,
   "outputs": [],
   "source": [
    "prob = pulp.LpProblem('TeamMaking', pulp.LpMaximize)\n",
    "pair = pulp.LpVariable.dicts('pair', ss, cat='Binary')"
   ],
   "metadata": {
    "collapsed": false,
    "pycharm": {
     "name": "#%%\n"
    }
   }
  },
  {
   "cell_type": "code",
   "execution_count": 72,
   "outputs": [],
   "source": [
    "# Each student can only find one partner\n",
    "for sid in sids:\n",
    "    prob += pulp.lpSum([pair[sid, sid2] for sid2 in sids]) == 1\n",
    "\n",
    "# The partnership needs to be symmetric\n",
    "for _ss in ss:\n",
    "    prob += pair[_ss[0], _ss[1]] - pair[_ss[1], _ss[0]] == 0\n",
    "\n",
    "# Some students have already formed a pair\n",
    "fixed_pairs = [(2, 3), (4, 5), (6, 7)]\n",
    "for fp in fixed_pairs:\n",
    "    prob += pair[fp[0], fp[1]] == 1"
   ],
   "metadata": {
    "collapsed": false,
    "pycharm": {
     "name": "#%%\n"
    }
   }
  },
  {
   "cell_type": "code",
   "execution_count": 73,
   "outputs": [],
   "source": [
    "# Preference\n",
    "def reward(sid1, sid2):\n",
    "    reward = 0\n",
    "\n",
    "    # It is nice if phd student and non-phd student work together\n",
    "    program1 = students[sid1]['program']\n",
    "    program2 = students[sid2]['program']\n",
    "    if program1 != program2:\n",
    "        reward += 1\n",
    "\n",
    "    # It is nice if students work together with another student\n",
    "    if sid1 != sid2:\n",
    "        reward += 0.5\n",
    "\n",
    "    return reward"
   ],
   "metadata": {
    "collapsed": false,
    "pycharm": {
     "name": "#%%\n"
    }
   }
  },
  {
   "cell_type": "code",
   "execution_count": 74,
   "outputs": [],
   "source": [
    "prob += pulp.lpSum([pair[sid1, sid2] * reward(sid1, sid2) for sid1, sid2 in ss])"
   ],
   "metadata": {
    "collapsed": false,
    "pycharm": {
     "name": "#%%\n"
    }
   }
  },
  {
   "cell_type": "code",
   "execution_count": 75,
   "outputs": [
    {
     "name": "stdout",
     "output_type": "stream",
     "text": [
      "Welcome to the CBC MILP Solver \n",
      "Version: 2.10.3 \n",
      "Build Date: Dec 15 2019 \n",
      "\n",
      "command line - /Users/kotarohara/repo/Python/web-optimization/venv/lib/python3.9/site-packages/pulp/apis/../solverdir/cbc/osx/64/cbc /var/folders/4_/vrr8kzqn5b9dxsprxn13022m0000gn/T/5788292eab9441e8ad9292ef50a0fdd5-pulp.mps max timeMode elapsed branch printingOptions all solution /var/folders/4_/vrr8kzqn5b9dxsprxn13022m0000gn/T/5788292eab9441e8ad9292ef50a0fdd5-pulp.sol (default strategy 1)\n",
      "At line 2 NAME          MODEL\n",
      "At line 3 ROWS\n",
      "At line 428 COLUMNS\n",
      "At line 2792 RHS\n",
      "At line 3216 BOUNDS\n",
      "At line 3617 ENDATA\n",
      "Problem MODEL has 423 rows, 400 columns and 1163 elements\n",
      "Coin0008I MODEL read with 0 errors\n",
      "Option for timeMode changed from cpu to elapsed\n",
      "Continuous objective value is 18 - 0.00 seconds\n",
      "Cgl0004I processed model has 14 rows, 105 columns (105 integer (105 of which binary)) and 196 elements\n",
      "Cutoff increment increased from 1e-05 to 0.9999\n",
      "Cbc0038I Initial state - 0 integers unsatisfied sum - 0\n",
      "Cbc0038I Solution found of -18\n",
      "Cbc0038I Before mini branch and bound, 91 integers at bound fixed and 14 continuous\n",
      "Cbc0038I Mini branch and bound did not improve solution (0.02 seconds)\n",
      "Cbc0038I After 0.02 seconds - Feasibility pump exiting with objective of -18 - took 0.00 seconds\n",
      "Cbc0012I Integer solution of -18 found by feasibility pump after 0 iterations and 0 nodes (0.03 seconds)\n",
      "Cbc0001I Search completed - best objective -18, took 0 iterations and 0 nodes (0.03 seconds)\n",
      "Cbc0035I Maximum depth 0, 0 variables fixed on reduced cost\n",
      "Cuts at root node changed objective from -18 to -18\n",
      "Probing was tried 0 times and created 0 cuts of which 0 were active after adding rounds of cuts (0.000 seconds)\n",
      "Gomory was tried 0 times and created 0 cuts of which 0 were active after adding rounds of cuts (0.000 seconds)\n",
      "Knapsack was tried 0 times and created 0 cuts of which 0 were active after adding rounds of cuts (0.000 seconds)\n",
      "Clique was tried 0 times and created 0 cuts of which 0 were active after adding rounds of cuts (0.000 seconds)\n",
      "MixedIntegerRounding2 was tried 0 times and created 0 cuts of which 0 were active after adding rounds of cuts (0.000 seconds)\n",
      "FlowCover was tried 0 times and created 0 cuts of which 0 were active after adding rounds of cuts (0.000 seconds)\n",
      "TwoMirCuts was tried 0 times and created 0 cuts of which 0 were active after adding rounds of cuts (0.000 seconds)\n",
      "ZeroHalf was tried 0 times and created 0 cuts of which 0 were active after adding rounds of cuts (0.000 seconds)\n",
      "\n",
      "Result - Optimal solution found\n",
      "\n",
      "Objective value:                18.00000000\n",
      "Enumerated nodes:               0\n",
      "Total iterations:               0\n",
      "Time (CPU seconds):             0.01\n",
      "Time (Wallclock seconds):       0.03\n",
      "\n",
      "Option for printingOptions changed from normal to all\n",
      "Total time (CPU seconds):       0.01   (Wallclock seconds):       0.04\n",
      "\n"
     ]
    },
    {
     "data": {
      "text/plain": "'Optimal'"
     },
     "execution_count": 75,
     "metadata": {},
     "output_type": "execute_result"
    }
   ],
   "source": [
    "status = prob.solve()\n",
    "pulp.LpStatus[status]"
   ],
   "metadata": {
    "collapsed": false,
    "pycharm": {
     "name": "#%%\n"
    }
   }
  },
  {
   "cell_type": "code",
   "execution_count": 76,
   "outputs": [
    {
     "name": "stdout",
     "output_type": "stream",
     "text": [
      "pair_(0,_10)\n",
      "{'id': 0, 'program': 'master'}\n",
      "{'id': 10, 'program': 'phd'}\n",
      "\n",
      "pair_(1,_13)\n",
      "{'id': 1, 'program': 'master'}\n",
      "{'id': 13, 'program': 'phd'}\n",
      "\n",
      "pair_(2,_3)\n",
      "{'id': 2, 'program': 'master'}\n",
      "{'id': 3, 'program': 'master'}\n",
      "\n",
      "pair_(3,_2)\n",
      "{'id': 3, 'program': 'master'}\n",
      "{'id': 2, 'program': 'master'}\n",
      "\n",
      "pair_(4,_5)\n",
      "{'id': 4, 'program': 'master'}\n",
      "{'id': 5, 'program': 'master'}\n",
      "\n",
      "pair_(5,_4)\n",
      "{'id': 5, 'program': 'master'}\n",
      "{'id': 4, 'program': 'master'}\n",
      "\n",
      "pair_(6,_7)\n",
      "{'id': 6, 'program': 'master'}\n",
      "{'id': 7, 'program': 'master'}\n",
      "\n",
      "pair_(7,_6)\n",
      "{'id': 7, 'program': 'master'}\n",
      "{'id': 6, 'program': 'master'}\n",
      "\n",
      "pair_(8,_19)\n",
      "{'id': 8, 'program': 'master'}\n",
      "{'id': 19, 'program': 'phd'}\n",
      "\n",
      "pair_(9,_12)\n",
      "{'id': 9, 'program': 'master'}\n",
      "{'id': 12, 'program': 'phd'}\n",
      "\n",
      "pair_(10,_0)\n",
      "{'id': 10, 'program': 'phd'}\n",
      "{'id': 0, 'program': 'master'}\n",
      "\n",
      "pair_(11,_18)\n",
      "{'id': 11, 'program': 'phd'}\n",
      "{'id': 18, 'program': 'phd'}\n",
      "\n",
      "pair_(12,_9)\n",
      "{'id': 12, 'program': 'phd'}\n",
      "{'id': 9, 'program': 'master'}\n",
      "\n",
      "pair_(13,_1)\n",
      "{'id': 13, 'program': 'phd'}\n",
      "{'id': 1, 'program': 'master'}\n",
      "\n",
      "pair_(14,_17)\n",
      "{'id': 14, 'program': 'phd'}\n",
      "{'id': 17, 'program': 'phd'}\n",
      "\n",
      "pair_(15,_16)\n",
      "{'id': 15, 'program': 'phd'}\n",
      "{'id': 16, 'program': 'phd'}\n",
      "\n",
      "pair_(16,_15)\n",
      "{'id': 16, 'program': 'phd'}\n",
      "{'id': 15, 'program': 'phd'}\n",
      "\n",
      "pair_(17,_14)\n",
      "{'id': 17, 'program': 'phd'}\n",
      "{'id': 14, 'program': 'phd'}\n",
      "\n",
      "pair_(18,_11)\n",
      "{'id': 18, 'program': 'phd'}\n",
      "{'id': 11, 'program': 'phd'}\n",
      "\n",
      "pair_(19,_8)\n",
      "{'id': 19, 'program': 'phd'}\n",
      "{'id': 8, 'program': 'master'}\n",
      "\n"
     ]
    }
   ],
   "source": [
    "for key in ss:\n",
    "    if pair[key].value() > 0:\n",
    "        print(pair[key])\n",
    "        print(students[key[0]])\n",
    "        print(students[key[1]])\n",
    "        print()"
   ],
   "metadata": {
    "collapsed": false,
    "pycharm": {
     "name": "#%%\n"
    }
   }
  },
  {
   "cell_type": "code",
   "execution_count": null,
   "outputs": [],
   "source": [],
   "metadata": {
    "collapsed": false,
    "pycharm": {
     "name": "#%%\n"
    }
   }
  }
 ],
 "metadata": {
  "kernelspec": {
   "display_name": "Python 3",
   "language": "python",
   "name": "python3"
  },
  "language_info": {
   "codemirror_mode": {
    "name": "ipython",
    "version": 2
   },
   "file_extension": ".py",
   "mimetype": "text/x-python",
   "name": "python",
   "nbconvert_exporter": "python",
   "pygments_lexer": "ipython2",
   "version": "2.7.6"
  }
 },
 "nbformat": 4,
 "nbformat_minor": 0
}