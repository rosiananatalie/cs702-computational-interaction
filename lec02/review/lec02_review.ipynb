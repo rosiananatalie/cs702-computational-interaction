{
 "cells": [
  {
   "cell_type": "markdown",
   "source": [
    "# Frequentist approach for comparing two frequencies."
   ],
   "metadata": {
    "collapsed": false,
    "pycharm": {
     "name": "#%% md\n"
    }
   }
  },
  {
   "cell_type": "code",
   "execution_count": 8,
   "outputs": [
    {
     "name": "stdout",
     "output_type": "stream",
     "text": [
      "Chi-square value: 0.020\n",
      "p-value: 0.887\n",
      "Degrees of freedom: 1\n"
     ]
    }
   ],
   "source": [
    "import numpy as np\n",
    "from scipy.stats import chi2_contingency as chisquare\n",
    "\n",
    "data = np.array([[2, 38], [4, 46]])\n",
    "chi2, p, dof, expected = chisquare(data)\n",
    "print(f\"Chi-square value: {chi2:.3f}\")\n",
    "print(f\"p-value: {p:.3f}\")\n",
    "print(f\"Degrees of freedom: {dof}\")"
   ],
   "metadata": {
    "collapsed": false,
    "pycharm": {
     "name": "#%%\n"
    }
   }
  },
  {
   "cell_type": "markdown",
   "source": [
    "Interpretation\n",
    "- The comparison of two samples of frequencies using Chi-squred test yielded p-value 0.887. This is much larger than oft-accepted critical value 0.05. Therefore, we cannot conclude that there is a difference between the two frequencies."
   ],
   "metadata": {
    "collapsed": false,
    "pycharm": {
     "name": "#%% md\n"
    }
   }
  },
  {
   "cell_type": "markdown",
   "source": [
    "# Bayesian approach for comparing two frequencies."
   ],
   "metadata": {
    "collapsed": false,
    "pycharm": {
     "name": "#%% md\n"
    }
   }
  },
  {
   "cell_type": "code",
   "execution_count": 6,
   "metadata": {
    "collapsed": true
   },
   "outputs": [
    {
     "data": {
      "text/plain": "<Figure size 432x288 with 1 Axes>",
      "image/png": "[encoded data removed]"
     },
     "metadata": {
      "needs_background": "light"
     },
     "output_type": "display_data"
    }
   ],
   "source": [
    "import numpy as np\n",
    "import matplotlib.pyplot as plt\n",
    "\n",
    "thetas = np.linspace(0, 1, 1001)\n",
    "\n",
    "def likelihood(X):\n",
    "    if X == 1:\n",
    "        return thetas\n",
    "    else:\n",
    "        return 1 - thetas\n",
    "\n",
    "def posterior(X, prior):\n",
    "    lp = likelihood(X) * prior\n",
    "    return lp / np.sum(lp)\n",
    "\n",
    "\n",
    "p_a = np.array([1 / len(thetas) for _ in thetas])\n",
    "purchase_a = 32\n",
    "nopurchase_a = 68\n",
    "for _ in range(purchase_a):\n",
    "    p_a = posterior(1, p_a)\n",
    "for _ in range(nopurchase_a):\n",
    "    p_a = posterior(0, p_a)\n",
    "plt.plot(thetas, p_a)\n",
    "\n",
    "p_b = np.array([1 / len(thetas) for _ in thetas])\n",
    "purchase_b = 28\n",
    "nopurchase_b = 72\n",
    "for _ in range(purchase_b):\n",
    "    p_b = posterior(1, p_b)\n",
    "for _ in range(nopurchase_b):\n",
    "    p_b = posterior(0, p_b)\n",
    "\n",
    "plt.plot(thetas, p_b)\n",
    "plt.xlabel(r'$\\theta$')\n",
    "plt.ylabel(r'$p(\\theta)$')\n",
    "plt.xlim([0, 1.0])\n",
    "plt.ylim([0, 0.015])\n",
    "plt.show()"
   ]
  },
  {
   "cell_type": "markdown",
   "source": [
    "Interpretations\n",
    "- The posterior distributions of conversion rates for both Design A and Design B are flat and wide. The thetas for both distributions range from somewhere around 0.2 to a little over 0.4. This shows that we are quite uncertain about the true value of the thetas.\n",
    "- The two posteiror distributions overlaps significantly. Thus, we cannot conclude whether two design are differnt or not."
   ],
   "metadata": {
    "collapsed": false,
    "pycharm": {
     "name": "#%% md\n"
    }
   }
  }
 ],
 "metadata": {
  "kernelspec": {
   "display_name": "Python 3",
   "language": "python",
   "name": "python3"
  },
  "language_info": {
   "codemirror_mode": {
    "name": "ipython",
    "version": 2
   },
   "file_extension": ".py",
   "mimetype": "text/x-python",
   "name": "python",
   "nbconvert_exporter": "python",
   "pygments_lexer": "ipython2",
   "version": "2.7.6"
  }
 },
 "nbformat": 4,
 "nbformat_minor": 0
}