{
 "cells": [
  {
   "cell_type": "markdown",
   "source": [
    "# Hands-on #6. Integer Programming\n",
    "Recall the team making scenario in the example that we went through during the class. We want to formulate assignment team formation as an integer programming problem and solve it. We have 20 students in the class. Half of the students are in a master’s program and half are in a PhD program. We want to form as many pairs as possible. During the lecture, we designed constraints and the objective function to encode:\n",
    "- Some students already formed pairs and they have partners\n",
    "- Some students prefer working alone\n",
    "- We want to encourage master’s students and PhD students to work together.\n",
    "\n",
    "Now, students are working on assignment 2. We want to:\n",
    "- Task #1 (design an objective function). Encourage students to work with a partner who is different from the previous assignment partner.\n",
    "- Task #2 (design constraints). Prohibit students from working with the same partner."
   ],
   "metadata": {
    "collapsed": false,
    "pycharm": {
     "name": "#%% md\n"
    }
   }
  },
  {
   "cell_type": "code",
   "execution_count": 43,
   "metadata": {
    "collapsed": true
   },
   "outputs": [],
   "source": [
    "import pulp\n",
    "from itertools import product"
   ]
  },
  {
   "cell_type": "code",
   "execution_count": 44,
   "outputs": [],
   "source": [
    "students = [\n",
    "    { \"id\": 0, \"program\": \"master\" },\n",
    "    { \"id\": 1, \"program\": \"master\" },\n",
    "    { \"id\": 2, \"program\": \"master\" },\n",
    "    { \"id\": 3, \"program\": \"master\" },\n",
    "    { \"id\": 4, \"program\": \"master\" },\n",
    "    { \"id\": 5, \"program\": \"master\" },\n",
    "    { \"id\": 6, \"program\": \"master\" },\n",
    "    { \"id\": 7, \"program\": \"master\" },\n",
    "    { \"id\": 8, \"program\": \"master\" },\n",
    "    { \"id\": 9, \"program\": \"master\" },\n",
    "    { \"id\": 10, \"program\": \"phd\" },\n",
    "    { \"id\": 11, \"program\": \"phd\" },\n",
    "    { \"id\": 12, \"program\": \"phd\" },\n",
    "    { \"id\": 13, \"program\": \"phd\" },\n",
    "    { \"id\": 14, \"program\": \"phd\" },\n",
    "    { \"id\": 15, \"program\": \"phd\" },\n",
    "    { \"id\": 16, \"program\": \"phd\" },\n",
    "    { \"id\": 17, \"program\": \"phd\" },\n",
    "    { \"id\": 18, \"program\": \"phd\" },\n",
    "    { \"id\": 19, \"program\": \"phd\" },\n",
    "]\n",
    "sids = [s[\"id\"] for s in students]\n",
    "ss = list(product(sids, sids))\n",
    "\n",
    "previous_pairs = [\n",
    "    (0, 10),\n",
    "    (1, 13),\n",
    "    (2, 3),\n",
    "    (4, 5),\n",
    "    (6, 7),\n",
    "    (8, 19),\n",
    "    (9, 12),\n",
    "    (11, 18),\n",
    "    (14, 17),\n",
    "    (15, 16)\n",
    "]"
   ],
   "metadata": {
    "collapsed": false,
    "pycharm": {
     "name": "#%%\n"
    }
   }
  },
  {
   "cell_type": "markdown",
   "source": [
    "# Task #1. Design an Objective Function\n",
    "Encourage students to work with a partner that is different from the previous partner.\n",
    "Edit the weight function to set the soft constraint."
   ],
   "metadata": {
    "collapsed": false,
    "pycharm": {
     "name": "#%% md\n"
    }
   }
  },
  {
   "cell_type": "code",
   "execution_count": 60,
   "outputs": [],
   "source": [
    "prob = pulp.LpProblem('TeamMaking-1', pulp.LpMaximize)\n",
    "pair = pulp.LpVariable.dicts('pair', ss, cat='Binary')"
   ],
   "metadata": {
    "collapsed": false,
    "pycharm": {
     "name": "#%%\n"
    }
   }
  },
  {
   "cell_type": "code",
   "execution_count": 61,
   "outputs": [],
   "source": [
    "# Constraints\n",
    "# Each student can only find one partner\n",
    "for sid in sids:\n",
    "    prob += pulp.lpSum([pair[sid, sid2] for sid2 in sids]) == 1\n",
    "\n",
    "# The partnership needs to be symmetric\n",
    "for _ss in ss:\n",
    "    prob += pair[_ss[0], _ss[1]] - pair[_ss[1], _ss[0]] == 0"
   ],
   "metadata": {
    "collapsed": false,
    "pycharm": {
     "name": "#%%\n"
    }
   }
  },
  {
   "cell_type": "code",
   "execution_count": 62,
   "outputs": [],
   "source": [
    "# Objective\n",
    "# Preference\n",
    "def weight(sid1, sid2):\n",
    "    reward = 0\n",
    "\n",
    "    # It is nice if phd student and non-phd student work together\n",
    "    program1 = students[sid1]['program']\n",
    "    program2 = students[sid2]['program']\n",
    "    if program1 != program2:\n",
    "        reward += 1\n",
    "\n",
    "    # It is nice if students work together with another student\n",
    "    if sid1 != sid2:\n",
    "        reward += 1\n",
    "\n",
    "    # It is nice if students work a new partner\n",
    "    # TODO\n",
    "\n",
    "\n",
    "    return reward\n",
    "\n",
    "prob += pulp.lpSum([pair[sid1, sid2] * weight(sid1, sid2) for sid1, sid2 in ss])"
   ],
   "metadata": {
    "collapsed": false,
    "pycharm": {
     "name": "#%%\n"
    }
   }
  },
  {
   "cell_type": "code",
   "execution_count": 63,
   "outputs": [
    {
     "name": "stdout",
     "output_type": "stream",
     "text": [
      "Welcome to the CBC MILP Solver \n",
      "Version: 2.10.3 \n",
      "Build Date: Dec 15 2019 \n",
      "\n",
      "command line - /Users/kotarohara/repo/Python/web-optimization/venv/lib/python3.9/site-packages/pulp/apis/../solverdir/cbc/osx/64/cbc /var/folders/4_/vrr8kzqn5b9dxsprxn13022m0000gn/T/c1d136376a51492d8e4528f0185873e4-pulp.mps max timeMode elapsed branch printingOptions all solution /var/folders/4_/vrr8kzqn5b9dxsprxn13022m0000gn/T/c1d136376a51492d8e4528f0185873e4-pulp.sol (default strategy 1)\n",
      "At line 2 NAME          MODEL\n",
      "At line 3 ROWS\n",
      "At line 425 COLUMNS\n",
      "At line 2786 RHS\n",
      "At line 3207 BOUNDS\n",
      "At line 3608 ENDATA\n",
      "Problem MODEL has 420 rows, 400 columns and 1160 elements\n",
      "Coin0008I MODEL read with 0 errors\n",
      "Option for timeMode changed from cpu to elapsed\n",
      "Continuous objective value is 40 - 0.00 seconds\n",
      "Cgl0004I processed model has 20 rows, 210 columns (210 integer (210 of which binary)) and 400 elements\n",
      "Cutoff increment increased from 1e-05 to 1.9999\n",
      "Cbc0038I Initial state - 0 integers unsatisfied sum - 0\n",
      "Cbc0038I Solution found of -40\n",
      "Cbc0038I Before mini branch and bound, 190 integers at bound fixed and 20 continuous\n",
      "Cbc0038I Mini branch and bound did not improve solution (0.04 seconds)\n",
      "Cbc0038I After 0.04 seconds - Feasibility pump exiting with objective of -40 - took 0.00 seconds\n",
      "Cbc0012I Integer solution of -40 found by feasibility pump after 0 iterations and 0 nodes (0.04 seconds)\n",
      "Cbc0001I Search completed - best objective -40, took 0 iterations and 0 nodes (0.04 seconds)\n",
      "Cbc0035I Maximum depth 0, 0 variables fixed on reduced cost\n",
      "Cuts at root node changed objective from -40 to -40\n",
      "Probing was tried 0 times and created 0 cuts of which 0 were active after adding rounds of cuts (0.000 seconds)\n",
      "Gomory was tried 0 times and created 0 cuts of which 0 were active after adding rounds of cuts (0.000 seconds)\n",
      "Knapsack was tried 0 times and created 0 cuts of which 0 were active after adding rounds of cuts (0.000 seconds)\n",
      "Clique was tried 0 times and created 0 cuts of which 0 were active after adding rounds of cuts (0.000 seconds)\n",
      "MixedIntegerRounding2 was tried 0 times and created 0 cuts of which 0 were active after adding rounds of cuts (0.000 seconds)\n",
      "FlowCover was tried 0 times and created 0 cuts of which 0 were active after adding rounds of cuts (0.000 seconds)\n",
      "TwoMirCuts was tried 0 times and created 0 cuts of which 0 were active after adding rounds of cuts (0.000 seconds)\n",
      "ZeroHalf was tried 0 times and created 0 cuts of which 0 were active after adding rounds of cuts (0.000 seconds)\n",
      "\n",
      "Result - Optimal solution found\n",
      "\n",
      "Objective value:                40.00000000\n",
      "Enumerated nodes:               0\n",
      "Total iterations:               0\n",
      "Time (CPU seconds):             0.01\n",
      "Time (Wallclock seconds):       0.04\n",
      "\n",
      "Option for printingOptions changed from normal to all\n",
      "Total time (CPU seconds):       0.01   (Wallclock seconds):       0.05\n",
      "\n"
     ]
    },
    {
     "data": {
      "text/plain": "'Optimal'"
     },
     "execution_count": 63,
     "metadata": {},
     "output_type": "execute_result"
    }
   ],
   "source": [
    "# Solve\n",
    "status = prob.solve()\n",
    "pulp.LpStatus[status]"
   ],
   "metadata": {
    "collapsed": false,
    "pycharm": {
     "name": "#%%\n"
    }
   }
  },
  {
   "cell_type": "code",
   "execution_count": 64,
   "outputs": [
    {
     "name": "stdout",
     "output_type": "stream",
     "text": [
      "pair_(0,_10)\n",
      "{'id': 0, 'program': 'master'}\n",
      "{'id': 10, 'program': 'phd'}\n",
      "\n",
      "pair_(1,_11)\n",
      "{'id': 1, 'program': 'master'}\n",
      "{'id': 11, 'program': 'phd'}\n",
      "\n",
      "pair_(2,_15)\n",
      "{'id': 2, 'program': 'master'}\n",
      "{'id': 15, 'program': 'phd'}\n",
      "\n",
      "pair_(3,_13)\n",
      "{'id': 3, 'program': 'master'}\n",
      "{'id': 13, 'program': 'phd'}\n",
      "\n",
      "pair_(4,_18)\n",
      "{'id': 4, 'program': 'master'}\n",
      "{'id': 18, 'program': 'phd'}\n",
      "\n",
      "pair_(5,_19)\n",
      "{'id': 5, 'program': 'master'}\n",
      "{'id': 19, 'program': 'phd'}\n",
      "\n",
      "pair_(6,_16)\n",
      "{'id': 6, 'program': 'master'}\n",
      "{'id': 16, 'program': 'phd'}\n",
      "\n",
      "pair_(7,_17)\n",
      "{'id': 7, 'program': 'master'}\n",
      "{'id': 17, 'program': 'phd'}\n",
      "\n",
      "pair_(8,_14)\n",
      "{'id': 8, 'program': 'master'}\n",
      "{'id': 14, 'program': 'phd'}\n",
      "\n",
      "pair_(9,_12)\n",
      "{'id': 9, 'program': 'master'}\n",
      "{'id': 12, 'program': 'phd'}\n",
      "\n",
      "pair_(10,_0)\n",
      "{'id': 10, 'program': 'phd'}\n",
      "{'id': 0, 'program': 'master'}\n",
      "\n",
      "pair_(11,_1)\n",
      "{'id': 11, 'program': 'phd'}\n",
      "{'id': 1, 'program': 'master'}\n",
      "\n",
      "pair_(12,_9)\n",
      "{'id': 12, 'program': 'phd'}\n",
      "{'id': 9, 'program': 'master'}\n",
      "\n",
      "pair_(13,_3)\n",
      "{'id': 13, 'program': 'phd'}\n",
      "{'id': 3, 'program': 'master'}\n",
      "\n",
      "pair_(14,_8)\n",
      "{'id': 14, 'program': 'phd'}\n",
      "{'id': 8, 'program': 'master'}\n",
      "\n",
      "pair_(15,_2)\n",
      "{'id': 15, 'program': 'phd'}\n",
      "{'id': 2, 'program': 'master'}\n",
      "\n",
      "pair_(16,_6)\n",
      "{'id': 16, 'program': 'phd'}\n",
      "{'id': 6, 'program': 'master'}\n",
      "\n",
      "pair_(17,_7)\n",
      "{'id': 17, 'program': 'phd'}\n",
      "{'id': 7, 'program': 'master'}\n",
      "\n",
      "pair_(18,_4)\n",
      "{'id': 18, 'program': 'phd'}\n",
      "{'id': 4, 'program': 'master'}\n",
      "\n",
      "pair_(19,_5)\n",
      "{'id': 19, 'program': 'phd'}\n",
      "{'id': 5, 'program': 'master'}\n",
      "\n"
     ]
    }
   ],
   "source": [
    "for key in ss:\n",
    "    if pair[key].value() > 0:\n",
    "        print(pair[key])\n",
    "        print(students[key[0]])\n",
    "        print(students[key[1]])\n",
    "        print()"
   ],
   "metadata": {
    "collapsed": false,
    "pycharm": {
     "name": "#%%\n"
    }
   }
  },
  {
   "cell_type": "markdown",
   "source": [
    "# Task #2 Design Constraints\n",
    "Force students to work with a partner that is different from the previous partner.\n",
    "Add hard constraints to achieve this."
   ],
   "metadata": {
    "collapsed": false,
    "pycharm": {
     "name": "#%% md\n"
    }
   }
  },
  {
   "cell_type": "code",
   "execution_count": 55,
   "outputs": [],
   "source": [
    "prob2 = pulp.LpProblem('TeamMaking-2', pulp.LpMaximize)\n",
    "pair2 = pulp.LpVariable.dicts('pair', ss, cat='Binary')"
   ],
   "metadata": {
    "collapsed": false,
    "pycharm": {
     "name": "#%%\n"
    }
   }
  },
  {
   "cell_type": "code",
   "execution_count": 56,
   "outputs": [],
   "source": [
    "# Constraints\n",
    "# Each student can only find one partner\n",
    "for sid in sids:\n",
    "    prob2 += pulp.lpSum([pair2[sid, sid2] for sid2 in sids]) == 1\n",
    "\n",
    "# The partnership needs to be symmetric\n",
    "for _ss in ss:\n",
    "    prob2 += pair2[_ss[0], _ss[1]] - pair2[_ss[1], _ss[0]] == 0\n",
    "\n",
    "\n",
    "# Students are not allowed to work with the previous partner\n",
    "# TODO"
   ],
   "metadata": {
    "collapsed": false,
    "pycharm": {
     "name": "#%%\n"
    }
   }
  },
  {
   "cell_type": "code",
   "execution_count": 57,
   "outputs": [],
   "source": [
    "# Objective\n",
    "# Preference\n",
    "def weight(sid1, sid2):\n",
    "    reward = 0\n",
    "\n",
    "    # It is nice if phd student and non-phd student work together\n",
    "    program1 = students[sid1]['program']\n",
    "    program2 = students[sid2]['program']\n",
    "    if program1 != program2:\n",
    "        reward += 1\n",
    "\n",
    "    # It is nice if students work together with another student\n",
    "    if sid1 != sid2:\n",
    "        reward += 1\n",
    "\n",
    "    # It is nice if students work a new partner\n",
    "    # TODO\n",
    "\n",
    "\n",
    "    return reward\n",
    "\n",
    "prob2 += pulp.lpSum([pair2[sid1, sid2] * weight(sid1, sid2) for sid1, sid2 in ss])"
   ],
   "metadata": {
    "collapsed": false,
    "pycharm": {
     "name": "#%%\n"
    }
   }
  },
  {
   "cell_type": "code",
   "execution_count": 58,
   "outputs": [
    {
     "name": "stdout",
     "output_type": "stream",
     "text": [
      "Welcome to the CBC MILP Solver \n",
      "Version: 2.10.3 \n",
      "Build Date: Dec 15 2019 \n",
      "\n",
      "command line - /Users/kotarohara/repo/Python/web-optimization/venv/lib/python3.9/site-packages/pulp/apis/../solverdir/cbc/osx/64/cbc /var/folders/4_/vrr8kzqn5b9dxsprxn13022m0000gn/T/dd2501b0bb834eb3905d7963581af257-pulp.mps max timeMode elapsed branch printingOptions all solution /var/folders/4_/vrr8kzqn5b9dxsprxn13022m0000gn/T/dd2501b0bb834eb3905d7963581af257-pulp.sol (default strategy 1)\n",
      "At line 2 NAME          MODEL\n",
      "At line 3 ROWS\n",
      "At line 425 COLUMNS\n",
      "At line 2786 RHS\n",
      "At line 3207 BOUNDS\n",
      "At line 3608 ENDATA\n",
      "Problem MODEL has 420 rows, 400 columns and 1160 elements\n",
      "Coin0008I MODEL read with 0 errors\n",
      "Option for timeMode changed from cpu to elapsed\n",
      "Continuous objective value is 40 - 0.00 seconds\n",
      "Cgl0004I processed model has 20 rows, 210 columns (210 integer (210 of which binary)) and 400 elements\n",
      "Cutoff increment increased from 1e-05 to 1.9999\n",
      "Cbc0038I Initial state - 0 integers unsatisfied sum - 0\n",
      "Cbc0038I Solution found of -40\n",
      "Cbc0038I Before mini branch and bound, 190 integers at bound fixed and 20 continuous\n",
      "Cbc0038I Mini branch and bound did not improve solution (0.02 seconds)\n",
      "Cbc0038I After 0.02 seconds - Feasibility pump exiting with objective of -40 - took 0.00 seconds\n",
      "Cbc0012I Integer solution of -40 found by feasibility pump after 0 iterations and 0 nodes (0.02 seconds)\n",
      "Cbc0001I Search completed - best objective -40, took 0 iterations and 0 nodes (0.02 seconds)\n",
      "Cbc0035I Maximum depth 0, 0 variables fixed on reduced cost\n",
      "Cuts at root node changed objective from -40 to -40\n",
      "Probing was tried 0 times and created 0 cuts of which 0 were active after adding rounds of cuts (0.000 seconds)\n",
      "Gomory was tried 0 times and created 0 cuts of which 0 were active after adding rounds of cuts (0.000 seconds)\n",
      "Knapsack was tried 0 times and created 0 cuts of which 0 were active after adding rounds of cuts (0.000 seconds)\n",
      "Clique was tried 0 times and created 0 cuts of which 0 were active after adding rounds of cuts (0.000 seconds)\n",
      "MixedIntegerRounding2 was tried 0 times and created 0 cuts of which 0 were active after adding rounds of cuts (0.000 seconds)\n",
      "FlowCover was tried 0 times and created 0 cuts of which 0 were active after adding rounds of cuts (0.000 seconds)\n",
      "TwoMirCuts was tried 0 times and created 0 cuts of which 0 were active after adding rounds of cuts (0.000 seconds)\n",
      "ZeroHalf was tried 0 times and created 0 cuts of which 0 were active after adding rounds of cuts (0.000 seconds)\n",
      "\n",
      "Result - Optimal solution found\n",
      "\n",
      "Objective value:                40.00000000\n",
      "Enumerated nodes:               0\n",
      "Total iterations:               0\n",
      "Time (CPU seconds):             0.01\n",
      "Time (Wallclock seconds):       0.02\n",
      "\n",
      "Option for printingOptions changed from normal to all\n",
      "Total time (CPU seconds):       0.01   (Wallclock seconds):       0.03\n",
      "\n"
     ]
    },
    {
     "data": {
      "text/plain": "'Optimal'"
     },
     "execution_count": 58,
     "metadata": {},
     "output_type": "execute_result"
    }
   ],
   "source": [
    "status = prob2.solve()\n",
    "pulp.LpStatus[status]"
   ],
   "metadata": {
    "collapsed": false,
    "pycharm": {
     "name": "#%%\n"
    }
   }
  },
  {
   "cell_type": "code",
   "execution_count": 59,
   "outputs": [
    {
     "name": "stdout",
     "output_type": "stream",
     "text": [
      "pair_(0,_10)\n",
      "{'id': 0, 'program': 'master'}\n",
      "{'id': 10, 'program': 'phd'}\n",
      "\n",
      "pair_(1,_11)\n",
      "{'id': 1, 'program': 'master'}\n",
      "{'id': 11, 'program': 'phd'}\n",
      "\n",
      "pair_(2,_15)\n",
      "{'id': 2, 'program': 'master'}\n",
      "{'id': 15, 'program': 'phd'}\n",
      "\n",
      "pair_(3,_13)\n",
      "{'id': 3, 'program': 'master'}\n",
      "{'id': 13, 'program': 'phd'}\n",
      "\n",
      "pair_(4,_18)\n",
      "{'id': 4, 'program': 'master'}\n",
      "{'id': 18, 'program': 'phd'}\n",
      "\n",
      "pair_(5,_19)\n",
      "{'id': 5, 'program': 'master'}\n",
      "{'id': 19, 'program': 'phd'}\n",
      "\n",
      "pair_(6,_16)\n",
      "{'id': 6, 'program': 'master'}\n",
      "{'id': 16, 'program': 'phd'}\n",
      "\n",
      "pair_(7,_17)\n",
      "{'id': 7, 'program': 'master'}\n",
      "{'id': 17, 'program': 'phd'}\n",
      "\n",
      "pair_(8,_14)\n",
      "{'id': 8, 'program': 'master'}\n",
      "{'id': 14, 'program': 'phd'}\n",
      "\n",
      "pair_(9,_12)\n",
      "{'id': 9, 'program': 'master'}\n",
      "{'id': 12, 'program': 'phd'}\n",
      "\n",
      "pair_(10,_0)\n",
      "{'id': 10, 'program': 'phd'}\n",
      "{'id': 0, 'program': 'master'}\n",
      "\n",
      "pair_(11,_1)\n",
      "{'id': 11, 'program': 'phd'}\n",
      "{'id': 1, 'program': 'master'}\n",
      "\n",
      "pair_(12,_9)\n",
      "{'id': 12, 'program': 'phd'}\n",
      "{'id': 9, 'program': 'master'}\n",
      "\n",
      "pair_(13,_3)\n",
      "{'id': 13, 'program': 'phd'}\n",
      "{'id': 3, 'program': 'master'}\n",
      "\n",
      "pair_(14,_8)\n",
      "{'id': 14, 'program': 'phd'}\n",
      "{'id': 8, 'program': 'master'}\n",
      "\n",
      "pair_(15,_2)\n",
      "{'id': 15, 'program': 'phd'}\n",
      "{'id': 2, 'program': 'master'}\n",
      "\n",
      "pair_(16,_6)\n",
      "{'id': 16, 'program': 'phd'}\n",
      "{'id': 6, 'program': 'master'}\n",
      "\n",
      "pair_(17,_7)\n",
      "{'id': 17, 'program': 'phd'}\n",
      "{'id': 7, 'program': 'master'}\n",
      "\n",
      "pair_(18,_4)\n",
      "{'id': 18, 'program': 'phd'}\n",
      "{'id': 4, 'program': 'master'}\n",
      "\n",
      "pair_(19,_5)\n",
      "{'id': 19, 'program': 'phd'}\n",
      "{'id': 5, 'program': 'master'}\n",
      "\n"
     ]
    }
   ],
   "source": [
    "for key in ss:\n",
    "    if pair2[key].value() > 0:\n",
    "        print(pair2[key])\n",
    "        print(students[key[0]])\n",
    "        print(students[key[1]])\n",
    "        print()"
   ],
   "metadata": {
    "collapsed": false,
    "pycharm": {
     "name": "#%%\n"
    }
   }
  },
  {
   "cell_type": "code",
   "execution_count": null,
   "outputs": [],
   "source": [],
   "metadata": {
    "collapsed": false,
    "pycharm": {
     "name": "#%%\n"
    }
   }
  }
 ],
 "metadata": {
  "kernelspec": {
   "display_name": "Python 3",
   "language": "python",
   "name": "python3"
  },
  "language_info": {
   "codemirror_mode": {
    "name": "ipython",
    "version": 2
   },
   "file_extension": ".py",
   "mimetype": "text/x-python",
   "name": "python",
   "nbconvert_exporter": "python",
   "pygments_lexer": "ipython2",
   "version": "2.7.6"
  }
 },
 "nbformat": 4,
 "nbformat_minor": 0
}