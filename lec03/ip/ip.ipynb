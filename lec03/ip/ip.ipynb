{
 "cells": [
  {
   "cell_type": "markdown",
   "source": [
    "# Lecture 03 (2/2): Integer Programming"
   ],
   "metadata": {
    "collapsed": false,
    "pycharm": {
     "name": "#%% md\n"
    }
   }
  },
  {
   "cell_type": "markdown",
   "source": [
    "# Team Formation\n",
    "Let's consider an optimization problem where we want to form pairs of students for a team assignment. Imagine that we have 20 students in a class. Half of the students are in a master's program and half are in a PhD program. We want to form as many pairs as possible. Note,\n",
    "\n",
    "* Some students already formed pairs and they have partners\n",
    "* Some students prefer working alone\n",
    "* We want to encourage master's students and PhD students to work together."
   ],
   "metadata": {
    "collapsed": false,
    "pycharm": {
     "name": "#%% md\n"
    }
   }
  },
  {
   "cell_type": "code",
   "execution_count": 47,
   "outputs": [
    {
     "name": "stdout",
     "output_type": "stream",
     "text": [
      "Students: [0, 1, 2, 3, 4, 5, 6, 7, 8, 9, 10, 11, 12, 13, 14, 15, 16, 17, 18, 19]\n",
      "Pairs: [(0, 0), (0, 1), (0, 2), (0, 3), (0, 4), (0, 5), (0, 6), (0, 7), (0, 8), (0, 9)]...\n"
     ]
    }
   ],
   "source": [
    "import pulp\n",
    "\n",
    "students = [\n",
    "    { \"id\": 0, \"program\": \"master\" },\n",
    "    { \"id\": 1, \"program\": \"master\" },\n",
    "    { \"id\": 2, \"program\": \"master\" },\n",
    "    { \"id\": 3, \"program\": \"master\" },\n",
    "    { \"id\": 4, \"program\": \"master\" },\n",
    "    { \"id\": 5, \"program\": \"master\" },\n",
    "    { \"id\": 6, \"program\": \"master\" },\n",
    "    { \"id\": 7, \"program\": \"master\" },\n",
    "    { \"id\": 8, \"program\": \"master\" },\n",
    "    { \"id\": 9, \"program\": \"master\" },\n",
    "    { \"id\": 10, \"program\": \"phd\" },\n",
    "    { \"id\": 11, \"program\": \"phd\" },\n",
    "    { \"id\": 12, \"program\": \"phd\" },\n",
    "    { \"id\": 13, \"program\": \"phd\" },\n",
    "    { \"id\": 14, \"program\": \"phd\" },\n",
    "    { \"id\": 15, \"program\": \"phd\" },\n",
    "    { \"id\": 16, \"program\": \"phd\" },\n",
    "    { \"id\": 17, \"program\": \"phd\" },\n",
    "    { \"id\": 18, \"program\": \"phd\" },\n",
    "    { \"id\": 19, \"program\": \"phd\" },\n",
    "]\n",
    "sids = [s[\"id\"] for s in students]\n",
    "print(f\"Students: {sids}\")\n",
    "\n",
    "from itertools import product\n",
    "ss = list(product(sids, sids))\n",
    "print(f\"Pairs: {ss[:10]}...\")"
   ],
   "metadata": {
    "collapsed": false,
    "pycharm": {
     "name": "#%%\n"
    }
   }
  },
  {
   "cell_type": "markdown",
   "source": [
    "# Variables and Domains\n",
    "We use a Python library called `pulp` to solve this integer programming problem. The first step is to define a problem. Then for the given problem, specify variables and their domains."
   ],
   "metadata": {
    "collapsed": false,
    "pycharm": {
     "name": "#%% md\n"
    }
   }
  },
  {
   "cell_type": "code",
   "execution_count": 48,
   "outputs": [],
   "source": [
    "prob = pulp.LpProblem('TeamMaking-2', pulp.LpMaximize)\n",
    "pair = pulp.LpVariable.dicts('pair', ss, cat='Binary')"
   ],
   "metadata": {
    "collapsed": false,
    "pycharm": {
     "name": "#%%\n"
    }
   }
  },
  {
   "cell_type": "markdown",
   "source": [
    "# Constraints\n",
    "We set a couple of constraints."
   ],
   "metadata": {
    "collapsed": false,
    "pycharm": {
     "name": "#%% md\n"
    }
   }
  },
  {
   "cell_type": "code",
   "execution_count": 49,
   "outputs": [],
   "source": [
    "# Each student can only find one partner\n",
    "for sid in sids:\n",
    "    prob += pulp.lpSum([pair[sid, sid2] for sid2 in sids]) == 1\n",
    "\n",
    "# The partnership needs to be symmetric\n",
    "for _ss in ss:\n",
    "    prob += pair[_ss[0], _ss[1]] - pair[_ss[1], _ss[0]] == 0\n",
    "\n",
    "# Some students have already formed a pair\n",
    "fixed_pairs = [(2, 3), (4, 5), (6, 7)]\n",
    "for fp in fixed_pairs:\n",
    "    prob += pair[fp[0], fp[1]] == 1"
   ],
   "metadata": {
    "collapsed": false,
    "pycharm": {
     "name": "#%%\n"
    }
   }
  },
  {
   "cell_type": "markdown",
   "source": [
    "## Objective\n",
    "In addition to the constraints, let's add objective. Let's say we want to encourage a PhD student and a non-PhD student to work together."
   ],
   "metadata": {
    "collapsed": false
   }
  },
  {
   "cell_type": "code",
   "execution_count": 50,
   "outputs": [],
   "source": [
    "# Preference\n",
    "def weight(sid1, sid2):\n",
    "    reward = 0\n",
    "\n",
    "    # It is nice if phd student and non-phd student work together\n",
    "    program1 = students[sid1]['program']\n",
    "    program2 = students[sid2]['program']\n",
    "    if program1 != program2:\n",
    "        reward += 1\n",
    "\n",
    "    # It is nice if students work together with another student\n",
    "    if sid1 != sid2:\n",
    "        reward += 1\n",
    "\n",
    "    return reward"
   ],
   "metadata": {
    "collapsed": false,
    "pycharm": {
     "name": "#%%\n"
    }
   }
  },
  {
   "cell_type": "code",
   "execution_count": 51,
   "outputs": [],
   "source": [
    "prob += pulp.lpSum([pair[sid1, sid2] * weight(sid1, sid2) for sid1, sid2 in ss])"
   ],
   "metadata": {
    "collapsed": false,
    "pycharm": {
     "name": "#%%\n"
    }
   }
  },
  {
   "cell_type": "markdown",
   "source": [
    "# Solve the problem"
   ],
   "metadata": {
    "collapsed": false,
    "pycharm": {
     "name": "#%% md\n"
    }
   }
  },
  {
   "cell_type": "code",
   "execution_count": 52,
   "outputs": [
    {
     "name": "stdout",
     "output_type": "stream",
     "text": [
      "Welcome to the CBC MILP Solver \n",
      "Version: 2.10.3 \n",
      "Build Date: Dec 15 2019 \n",
      "\n",
      "command line - /Users/kotarohara/repo/Python/web-optimization/venv/lib/python3.9/site-packages/pulp/apis/../solverdir/cbc/osx/64/cbc /var/folders/4_/vrr8kzqn5b9dxsprxn13022m0000gn/T/ce20cbf32d9d44c788e4c78b95c99959-pulp.mps max timeMode elapsed branch printingOptions all solution /var/folders/4_/vrr8kzqn5b9dxsprxn13022m0000gn/T/ce20cbf32d9d44c788e4c78b95c99959-pulp.sol (default strategy 1)\n",
      "At line 2 NAME          MODEL\n",
      "At line 3 ROWS\n",
      "At line 428 COLUMNS\n",
      "At line 2792 RHS\n",
      "At line 3216 BOUNDS\n",
      "At line 3617 ENDATA\n",
      "Problem MODEL has 423 rows, 400 columns and 1163 elements\n",
      "Coin0008I MODEL read with 0 errors\n",
      "Option for timeMode changed from cpu to elapsed\n",
      "Continuous objective value is 28 - 0.00 seconds\n",
      "Cgl0004I processed model has 14 rows, 105 columns (105 integer (105 of which binary)) and 196 elements\n",
      "Cutoff increment increased from 1e-05 to 1.9999\n",
      "Cbc0038I Initial state - 0 integers unsatisfied sum - 0\n",
      "Cbc0038I Solution found of -28\n",
      "Cbc0038I Before mini branch and bound, 91 integers at bound fixed and 14 continuous\n",
      "Cbc0038I Mini branch and bound did not improve solution (0.02 seconds)\n",
      "Cbc0038I After 0.02 seconds - Feasibility pump exiting with objective of -28 - took 0.00 seconds\n",
      "Cbc0012I Integer solution of -28 found by feasibility pump after 0 iterations and 0 nodes (0.02 seconds)\n",
      "Cbc0001I Search completed - best objective -28, took 0 iterations and 0 nodes (0.02 seconds)\n",
      "Cbc0035I Maximum depth 0, 0 variables fixed on reduced cost\n",
      "Cuts at root node changed objective from -28 to -28\n",
      "Probing was tried 0 times and created 0 cuts of which 0 were active after adding rounds of cuts (0.000 seconds)\n",
      "Gomory was tried 0 times and created 0 cuts of which 0 were active after adding rounds of cuts (0.000 seconds)\n",
      "Knapsack was tried 0 times and created 0 cuts of which 0 were active after adding rounds of cuts (0.000 seconds)\n",
      "Clique was tried 0 times and created 0 cuts of which 0 were active after adding rounds of cuts (0.000 seconds)\n",
      "MixedIntegerRounding2 was tried 0 times and created 0 cuts of which 0 were active after adding rounds of cuts (0.000 seconds)\n",
      "FlowCover was tried 0 times and created 0 cuts of which 0 were active after adding rounds of cuts (0.000 seconds)\n",
      "TwoMirCuts was tried 0 times and created 0 cuts of which 0 were active after adding rounds of cuts (0.000 seconds)\n",
      "ZeroHalf was tried 0 times and created 0 cuts of which 0 were active after adding rounds of cuts (0.000 seconds)\n",
      "\n",
      "Result - Optimal solution found\n",
      "\n",
      "Objective value:                28.00000000\n",
      "Enumerated nodes:               0\n",
      "Total iterations:               0\n",
      "Time (CPU seconds):             0.01\n",
      "Time (Wallclock seconds):       0.02\n",
      "\n",
      "Option for printingOptions changed from normal to all\n",
      "Total time (CPU seconds):       0.01   (Wallclock seconds):       0.03\n",
      "\n"
     ]
    },
    {
     "data": {
      "text/plain": "'Optimal'"
     },
     "execution_count": 52,
     "metadata": {},
     "output_type": "execute_result"
    }
   ],
   "source": [
    "status = prob.solve()\n",
    "pulp.LpStatus[status]"
   ],
   "metadata": {
    "collapsed": false,
    "pycharm": {
     "name": "#%%\n"
    }
   }
  },
  {
   "cell_type": "code",
   "execution_count": 53,
   "outputs": [
    {
     "name": "stdout",
     "output_type": "stream",
     "text": [
      "pair_(0,_10)\n",
      "{'id': 0, 'program': 'master'}\n",
      "{'id': 10, 'program': 'phd'}\n",
      "\n",
      "pair_(1,_13)\n",
      "{'id': 1, 'program': 'master'}\n",
      "{'id': 13, 'program': 'phd'}\n",
      "\n",
      "pair_(2,_3)\n",
      "{'id': 2, 'program': 'master'}\n",
      "{'id': 3, 'program': 'master'}\n",
      "\n",
      "pair_(3,_2)\n",
      "{'id': 3, 'program': 'master'}\n",
      "{'id': 2, 'program': 'master'}\n",
      "\n",
      "pair_(4,_5)\n",
      "{'id': 4, 'program': 'master'}\n",
      "{'id': 5, 'program': 'master'}\n",
      "\n",
      "pair_(5,_4)\n",
      "{'id': 5, 'program': 'master'}\n",
      "{'id': 4, 'program': 'master'}\n",
      "\n",
      "pair_(6,_7)\n",
      "{'id': 6, 'program': 'master'}\n",
      "{'id': 7, 'program': 'master'}\n",
      "\n",
      "pair_(7,_6)\n",
      "{'id': 7, 'program': 'master'}\n",
      "{'id': 6, 'program': 'master'}\n",
      "\n",
      "pair_(8,_19)\n",
      "{'id': 8, 'program': 'master'}\n",
      "{'id': 19, 'program': 'phd'}\n",
      "\n",
      "pair_(9,_12)\n",
      "{'id': 9, 'program': 'master'}\n",
      "{'id': 12, 'program': 'phd'}\n",
      "\n",
      "pair_(10,_0)\n",
      "{'id': 10, 'program': 'phd'}\n",
      "{'id': 0, 'program': 'master'}\n",
      "\n",
      "pair_(11,_18)\n",
      "{'id': 11, 'program': 'phd'}\n",
      "{'id': 18, 'program': 'phd'}\n",
      "\n",
      "pair_(12,_9)\n",
      "{'id': 12, 'program': 'phd'}\n",
      "{'id': 9, 'program': 'master'}\n",
      "\n",
      "pair_(13,_1)\n",
      "{'id': 13, 'program': 'phd'}\n",
      "{'id': 1, 'program': 'master'}\n",
      "\n",
      "pair_(14,_17)\n",
      "{'id': 14, 'program': 'phd'}\n",
      "{'id': 17, 'program': 'phd'}\n",
      "\n",
      "pair_(15,_16)\n",
      "{'id': 15, 'program': 'phd'}\n",
      "{'id': 16, 'program': 'phd'}\n",
      "\n",
      "pair_(16,_15)\n",
      "{'id': 16, 'program': 'phd'}\n",
      "{'id': 15, 'program': 'phd'}\n",
      "\n",
      "pair_(17,_14)\n",
      "{'id': 17, 'program': 'phd'}\n",
      "{'id': 14, 'program': 'phd'}\n",
      "\n",
      "pair_(18,_11)\n",
      "{'id': 18, 'program': 'phd'}\n",
      "{'id': 11, 'program': 'phd'}\n",
      "\n",
      "pair_(19,_8)\n",
      "{'id': 19, 'program': 'phd'}\n",
      "{'id': 8, 'program': 'master'}\n",
      "\n"
     ]
    }
   ],
   "source": [
    "for key in ss:\n",
    "    if pair[key].value() > 0:\n",
    "        print(pair[key])\n",
    "        print(students[key[0]])\n",
    "        print(students[key[1]])\n",
    "        print()"
   ],
   "metadata": {
    "collapsed": false,
    "pycharm": {
     "name": "#%%\n"
    }
   }
  },
  {
   "cell_type": "code",
   "execution_count": null,
   "outputs": [],
   "source": [],
   "metadata": {
    "collapsed": false,
    "pycharm": {
     "name": "#%%\n"
    }
   }
  }
 ],
 "metadata": {
  "kernelspec": {
   "display_name": "Python 3",
   "language": "python",
   "name": "python3"
  },
  "language_info": {
   "codemirror_mode": {
    "name": "ipython",
    "version": 2
   },
   "file_extension": ".py",
   "mimetype": "text/x-python",
   "name": "python",
   "nbconvert_exporter": "python",
   "pygments_lexer": "ipython2",
   "version": "2.7.6"
  }
 },
 "nbformat": 4,
 "nbformat_minor": 0
}