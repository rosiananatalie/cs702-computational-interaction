{
 "cells": [
  {
   "cell_type": "markdown",
   "source": [
    "# Hands-on #06: Integer Programming"
   ],
   "metadata": {
    "collapsed": false,
    "pycharm": {
     "name": "#%% md\n"
    }
   }
  },
  {
   "cell_type": "code",
   "execution_count": 137,
   "metadata": {
    "collapsed": true
   },
   "outputs": [],
   "source": [
    "import pulp\n",
    "from itertools import product"
   ]
  },
  {
   "cell_type": "code",
   "execution_count": 125,
   "outputs": [],
   "source": [
    "students = [\n",
    "    { \"id\": 0, \"program\": \"master\" },\n",
    "    { \"id\": 1, \"program\": \"master\" },\n",
    "    { \"id\": 2, \"program\": \"master\" },\n",
    "    { \"id\": 3, \"program\": \"master\" },\n",
    "    { \"id\": 4, \"program\": \"master\" },\n",
    "    { \"id\": 5, \"program\": \"master\" },\n",
    "    { \"id\": 6, \"program\": \"master\" },\n",
    "    { \"id\": 7, \"program\": \"master\" },\n",
    "    { \"id\": 8, \"program\": \"master\" },\n",
    "    { \"id\": 9, \"program\": \"master\" },\n",
    "    { \"id\": 10, \"program\": \"phd\" },\n",
    "    { \"id\": 11, \"program\": \"phd\" },\n",
    "    { \"id\": 12, \"program\": \"phd\" },\n",
    "    { \"id\": 13, \"program\": \"phd\" },\n",
    "    { \"id\": 14, \"program\": \"phd\" },\n",
    "    { \"id\": 15, \"program\": \"phd\" },\n",
    "    { \"id\": 16, \"program\": \"phd\" },\n",
    "    { \"id\": 17, \"program\": \"phd\" },\n",
    "    { \"id\": 18, \"program\": \"phd\" },\n",
    "    { \"id\": 19, \"program\": \"phd\" },\n",
    "]\n",
    "sids = [s[\"id\"] for s in students]\n",
    "ss = list(product(sids, sids))"
   ],
   "metadata": {
    "collapsed": false,
    "pycharm": {
     "name": "#%%\n"
    }
   }
  },
  {
   "cell_type": "code",
   "execution_count": 126,
   "outputs": [],
   "source": [
    "previous_pairs = [\n",
    "    (0, 10),\n",
    "    (1, 13),\n",
    "    (2, 3),\n",
    "    (4, 5),\n",
    "    (6, 7),\n",
    "    (8, 19),\n",
    "    (9, 12),\n",
    "    (11, 18),\n",
    "    (14, 17),\n",
    "    (15, 16)\n",
    "]"
   ],
   "metadata": {
    "collapsed": false,
    "pycharm": {
     "name": "#%%\n"
    }
   }
  },
  {
   "cell_type": "markdown",
   "source": [
    "# Team Making 1\n",
    "Encourage students to work with a partner that is different from the previous partner.\n",
    "Edit the reward function to set the soft constraint."
   ],
   "metadata": {
    "collapsed": false,
    "pycharm": {
     "name": "#%% md\n"
    }
   }
  },
  {
   "cell_type": "code",
   "execution_count": 127,
   "outputs": [],
   "source": [
    "prob = pulp.LpProblem('TeamMaking-1', pulp.LpMaximize)\n",
    "pair = pulp.LpVariable.dicts('pair', ss, cat='Binary')"
   ],
   "metadata": {
    "collapsed": false,
    "pycharm": {
     "name": "#%%\n"
    }
   }
  },
  {
   "cell_type": "markdown",
   "source": [
    "## Specifiy the Constraints"
   ],
   "metadata": {
    "collapsed": false,
    "pycharm": {
     "name": "#%% md\n"
    }
   }
  },
  {
   "cell_type": "code",
   "execution_count": 128,
   "outputs": [],
   "source": [
    "# Each student can only find one partner\n",
    "for sid in sids:\n",
    "    prob += pulp.lpSum([pair[sid, sid2] for sid2 in sids]) == 1\n",
    "\n",
    "# The partnership needs to be symmetric\n",
    "for _ss in ss:\n",
    "    prob += pair[_ss[0], _ss[1]] - pair[_ss[1], _ss[0]] == 0"
   ],
   "metadata": {
    "collapsed": false,
    "pycharm": {
     "name": "#%%\n"
    }
   }
  },
  {
   "cell_type": "markdown",
   "source": [
    "## Specify the Objective Function"
   ],
   "metadata": {
    "collapsed": false,
    "pycharm": {
     "name": "#%% md\n"
    }
   }
  },
  {
   "cell_type": "code",
   "execution_count": 129,
   "outputs": [],
   "source": [
    "# Preference\n",
    "def reward(sid1, sid2):\n",
    "    reward = 0\n",
    "\n",
    "    # It is nice if phd student and non-phd student work together\n",
    "    program1 = students[sid1]['program']\n",
    "    program2 = students[sid2]['program']\n",
    "    if program1 != program2:\n",
    "        reward += 1\n",
    "\n",
    "    # It is nice if students work together with another student\n",
    "    if sid1 != sid2:\n",
    "        reward += 1\n",
    "\n",
    "    # It is nice if students form a new pair\n",
    "    # TODO\n",
    "\n",
    "    return reward\n",
    "\n",
    "prob += pulp.lpSum([pair[sid1, sid2] * reward(sid1, sid2) for sid1, sid2 in ss])"
   ],
   "metadata": {
    "collapsed": false,
    "pycharm": {
     "name": "#%%\n"
    }
   }
  },
  {
   "cell_type": "markdown",
   "source": [
    "## Solve the Problem"
   ],
   "metadata": {
    "collapsed": false,
    "pycharm": {
     "name": "#%% md\n"
    }
   }
  },
  {
   "cell_type": "code",
   "execution_count": 130,
   "outputs": [
    {
     "name": "stdout",
     "output_type": "stream",
     "text": [
      "Welcome to the CBC MILP Solver \n",
      "Version: 2.10.3 \n",
      "Build Date: Dec 15 2019 \n",
      "\n",
      "command line - /Users/kotarohara/repo/Python/web-optimization/venv/lib/python3.9/site-packages/pulp/apis/../solverdir/cbc/osx/64/cbc /var/folders/4_/vrr8kzqn5b9dxsprxn13022m0000gn/T/58ab58e6f0d64ac4bacbac51d915234f-pulp.mps max timeMode elapsed branch printingOptions all solution /var/folders/4_/vrr8kzqn5b9dxsprxn13022m0000gn/T/58ab58e6f0d64ac4bacbac51d915234f-pulp.sol (default strategy 1)\n",
      "At line 2 NAME          MODEL\n",
      "At line 3 ROWS\n",
      "At line 425 COLUMNS\n",
      "At line 2786 RHS\n",
      "At line 3207 BOUNDS\n",
      "At line 3608 ENDATA\n",
      "Problem MODEL has 420 rows, 400 columns and 1160 elements\n",
      "Coin0008I MODEL read with 0 errors\n",
      "Option for timeMode changed from cpu to elapsed\n",
      "Continuous objective value is 40 - 0.00 seconds\n",
      "Cgl0004I processed model has 20 rows, 210 columns (210 integer (210 of which binary)) and 400 elements\n",
      "Cutoff increment increased from 1e-05 to 1.9999\n",
      "Cbc0038I Initial state - 0 integers unsatisfied sum - 0\n",
      "Cbc0038I Solution found of -40\n",
      "Cbc0038I Before mini branch and bound, 190 integers at bound fixed and 20 continuous\n",
      "Cbc0038I Mini branch and bound did not improve solution (0.02 seconds)\n",
      "Cbc0038I After 0.02 seconds - Feasibility pump exiting with objective of -40 - took 0.00 seconds\n",
      "Cbc0012I Integer solution of -40 found by feasibility pump after 0 iterations and 0 nodes (0.02 seconds)\n",
      "Cbc0001I Search completed - best objective -40, took 0 iterations and 0 nodes (0.02 seconds)\n",
      "Cbc0035I Maximum depth 0, 0 variables fixed on reduced cost\n",
      "Cuts at root node changed objective from -40 to -40\n",
      "Probing was tried 0 times and created 0 cuts of which 0 were active after adding rounds of cuts (0.000 seconds)\n",
      "Gomory was tried 0 times and created 0 cuts of which 0 were active after adding rounds of cuts (0.000 seconds)\n",
      "Knapsack was tried 0 times and created 0 cuts of which 0 were active after adding rounds of cuts (0.000 seconds)\n",
      "Clique was tried 0 times and created 0 cuts of which 0 were active after adding rounds of cuts (0.000 seconds)\n",
      "MixedIntegerRounding2 was tried 0 times and created 0 cuts of which 0 were active after adding rounds of cuts (0.000 seconds)\n",
      "FlowCover was tried 0 times and created 0 cuts of which 0 were active after adding rounds of cuts (0.000 seconds)\n",
      "TwoMirCuts was tried 0 times and created 0 cuts of which 0 were active after adding rounds of cuts (0.000 seconds)\n",
      "ZeroHalf was tried 0 times and created 0 cuts of which 0 were active after adding rounds of cuts (0.000 seconds)\n",
      "\n",
      "Result - Optimal solution found\n",
      "\n",
      "Objective value:                40.00000000\n",
      "Enumerated nodes:               0\n",
      "Total iterations:               0\n",
      "Time (CPU seconds):             0.01\n",
      "Time (Wallclock seconds):       0.03\n",
      "\n",
      "Option for printingOptions changed from normal to all\n",
      "Total time (CPU seconds):       0.01   (Wallclock seconds):       0.04\n",
      "\n"
     ]
    },
    {
     "data": {
      "text/plain": "'Optimal'"
     },
     "execution_count": 130,
     "metadata": {},
     "output_type": "execute_result"
    }
   ],
   "source": [
    "status = prob.solve()\n",
    "pulp.LpStatus[status]"
   ],
   "metadata": {
    "collapsed": false,
    "pycharm": {
     "name": "#%%\n"
    }
   }
  },
  {
   "cell_type": "code",
   "execution_count": 131,
   "outputs": [
    {
     "name": "stdout",
     "output_type": "stream",
     "text": [
      "pair_(0,_10)\n",
      "{'id': 0, 'program': 'master'}\n",
      "{'id': 10, 'program': 'phd'}\n",
      "\n",
      "pair_(1,_11)\n",
      "{'id': 1, 'program': 'master'}\n",
      "{'id': 11, 'program': 'phd'}\n",
      "\n",
      "pair_(2,_15)\n",
      "{'id': 2, 'program': 'master'}\n",
      "{'id': 15, 'program': 'phd'}\n",
      "\n",
      "pair_(3,_13)\n",
      "{'id': 3, 'program': 'master'}\n",
      "{'id': 13, 'program': 'phd'}\n",
      "\n",
      "pair_(4,_18)\n",
      "{'id': 4, 'program': 'master'}\n",
      "{'id': 18, 'program': 'phd'}\n",
      "\n",
      "pair_(5,_19)\n",
      "{'id': 5, 'program': 'master'}\n",
      "{'id': 19, 'program': 'phd'}\n",
      "\n",
      "pair_(6,_16)\n",
      "{'id': 6, 'program': 'master'}\n",
      "{'id': 16, 'program': 'phd'}\n",
      "\n",
      "pair_(7,_17)\n",
      "{'id': 7, 'program': 'master'}\n",
      "{'id': 17, 'program': 'phd'}\n",
      "\n",
      "pair_(8,_14)\n",
      "{'id': 8, 'program': 'master'}\n",
      "{'id': 14, 'program': 'phd'}\n",
      "\n",
      "pair_(9,_12)\n",
      "{'id': 9, 'program': 'master'}\n",
      "{'id': 12, 'program': 'phd'}\n",
      "\n",
      "pair_(10,_0)\n",
      "{'id': 10, 'program': 'phd'}\n",
      "{'id': 0, 'program': 'master'}\n",
      "\n",
      "pair_(11,_1)\n",
      "{'id': 11, 'program': 'phd'}\n",
      "{'id': 1, 'program': 'master'}\n",
      "\n",
      "pair_(12,_9)\n",
      "{'id': 12, 'program': 'phd'}\n",
      "{'id': 9, 'program': 'master'}\n",
      "\n",
      "pair_(13,_3)\n",
      "{'id': 13, 'program': 'phd'}\n",
      "{'id': 3, 'program': 'master'}\n",
      "\n",
      "pair_(14,_8)\n",
      "{'id': 14, 'program': 'phd'}\n",
      "{'id': 8, 'program': 'master'}\n",
      "\n",
      "pair_(15,_2)\n",
      "{'id': 15, 'program': 'phd'}\n",
      "{'id': 2, 'program': 'master'}\n",
      "\n",
      "pair_(16,_6)\n",
      "{'id': 16, 'program': 'phd'}\n",
      "{'id': 6, 'program': 'master'}\n",
      "\n",
      "pair_(17,_7)\n",
      "{'id': 17, 'program': 'phd'}\n",
      "{'id': 7, 'program': 'master'}\n",
      "\n",
      "pair_(18,_4)\n",
      "{'id': 18, 'program': 'phd'}\n",
      "{'id': 4, 'program': 'master'}\n",
      "\n",
      "pair_(19,_5)\n",
      "{'id': 19, 'program': 'phd'}\n",
      "{'id': 5, 'program': 'master'}\n",
      "\n"
     ]
    }
   ],
   "source": [
    "for key in ss:\n",
    "    if pair[key].value() > 0:\n",
    "        print(pair[key])\n",
    "        print(students[key[0]])\n",
    "        print(students[key[1]])\n",
    "        print()"
   ],
   "metadata": {
    "collapsed": false,
    "pycharm": {
     "name": "#%%\n"
    }
   }
  },
  {
   "cell_type": "markdown",
   "source": [
    "# Team Making 2\n",
    "Force students to work with a partner that is different from the previous partner.\n",
    "Add hard constraints to achieve this."
   ],
   "metadata": {
    "collapsed": false,
    "pycharm": {
     "name": "#%% md\n"
    }
   }
  },
  {
   "cell_type": "code",
   "execution_count": 132,
   "outputs": [],
   "source": [
    "prob = pulp.LpProblem('TeamMaking-2', pulp.LpMaximize)\n",
    "pair = pulp.LpVariable.dicts('pair', ss, cat='Binary')"
   ],
   "metadata": {
    "collapsed": false,
    "pycharm": {
     "name": "#%%\n"
    }
   }
  },
  {
   "cell_type": "markdown",
   "source": [
    "## Constraints"
   ],
   "metadata": {
    "collapsed": false,
    "pycharm": {
     "name": "#%% md\n"
    }
   }
  },
  {
   "cell_type": "code",
   "execution_count": 133,
   "outputs": [],
   "source": [
    "# Each student can only find one partner\n",
    "for sid in sids:\n",
    "    prob += pulp.lpSum([pair[sid, sid2] for sid2 in sids]) == 1\n",
    "\n",
    "# The partnership needs to be symmetric\n",
    "for _ss in ss:\n",
    "    prob += pair[_ss[0], _ss[1]] - pair[_ss[1], _ss[0]] == 0\n",
    "\n",
    "# Students cannot work with the previous partner\n",
    "# TODO"
   ],
   "metadata": {
    "collapsed": false,
    "pycharm": {
     "name": "#%%\n"
    }
   }
  },
  {
   "cell_type": "markdown",
   "source": [
    "## Objective"
   ],
   "metadata": {
    "collapsed": false,
    "pycharm": {
     "name": "#%% md\n"
    }
   }
  },
  {
   "cell_type": "code",
   "execution_count": 134,
   "outputs": [],
   "source": [
    "# Preference\n",
    "def reward(sid1, sid2):\n",
    "    reward = 0\n",
    "\n",
    "    # It is nice if phd student and non-phd student work together\n",
    "    program1 = students[sid1]['program']\n",
    "    program2 = students[sid2]['program']\n",
    "    if program1 != program2:\n",
    "        reward += 1\n",
    "\n",
    "    # It is nice if students work together with another student\n",
    "    if sid1 != sid2:\n",
    "        reward += 1\n",
    "\n",
    "    return reward\n",
    "\n",
    "prob += pulp.lpSum([pair[sid1, sid2] * reward(sid1, sid2) for sid1, sid2 in ss])"
   ],
   "metadata": {
    "collapsed": false,
    "pycharm": {
     "name": "#%%\n"
    }
   }
  },
  {
   "cell_type": "markdown",
   "source": [
    "## Solve the Problem"
   ],
   "metadata": {
    "collapsed": false,
    "pycharm": {
     "name": "#%% md\n"
    }
   }
  },
  {
   "cell_type": "code",
   "execution_count": 135,
   "outputs": [
    {
     "name": "stdout",
     "output_type": "stream",
     "text": [
      "Welcome to the CBC MILP Solver \n",
      "Version: 2.10.3 \n",
      "Build Date: Dec 15 2019 \n",
      "\n",
      "command line - /Users/kotarohara/repo/Python/web-optimization/venv/lib/python3.9/site-packages/pulp/apis/../solverdir/cbc/osx/64/cbc /var/folders/4_/vrr8kzqn5b9dxsprxn13022m0000gn/T/d03dc880f24c48098c63116e7a1beb26-pulp.mps max timeMode elapsed branch printingOptions all solution /var/folders/4_/vrr8kzqn5b9dxsprxn13022m0000gn/T/d03dc880f24c48098c63116e7a1beb26-pulp.sol (default strategy 1)\n",
      "At line 2 NAME          MODEL\n",
      "At line 3 ROWS\n",
      "At line 425 COLUMNS\n",
      "At line 2786 RHS\n",
      "At line 3207 BOUNDS\n",
      "At line 3608 ENDATA\n",
      "Problem MODEL has 420 rows, 400 columns and 1160 elements\n",
      "Coin0008I MODEL read with 0 errors\n",
      "Option for timeMode changed from cpu to elapsed\n",
      "Continuous objective value is 40 - 0.00 seconds\n",
      "Cgl0004I processed model has 20 rows, 210 columns (210 integer (210 of which binary)) and 400 elements\n",
      "Cutoff increment increased from 1e-05 to 1.9999\n",
      "Cbc0038I Initial state - 0 integers unsatisfied sum - 0\n",
      "Cbc0038I Solution found of -40\n",
      "Cbc0038I Before mini branch and bound, 190 integers at bound fixed and 20 continuous\n",
      "Cbc0038I Mini branch and bound did not improve solution (0.01 seconds)\n",
      "Cbc0038I After 0.01 seconds - Feasibility pump exiting with objective of -40 - took 0.00 seconds\n",
      "Cbc0012I Integer solution of -40 found by feasibility pump after 0 iterations and 0 nodes (0.01 seconds)\n",
      "Cbc0001I Search completed - best objective -40, took 0 iterations and 0 nodes (0.01 seconds)\n",
      "Cbc0035I Maximum depth 0, 0 variables fixed on reduced cost\n",
      "Cuts at root node changed objective from -40 to -40\n",
      "Probing was tried 0 times and created 0 cuts of which 0 were active after adding rounds of cuts (0.000 seconds)\n",
      "Gomory was tried 0 times and created 0 cuts of which 0 were active after adding rounds of cuts (0.000 seconds)\n",
      "Knapsack was tried 0 times and created 0 cuts of which 0 were active after adding rounds of cuts (0.000 seconds)\n",
      "Clique was tried 0 times and created 0 cuts of which 0 were active after adding rounds of cuts (0.000 seconds)\n",
      "MixedIntegerRounding2 was tried 0 times and created 0 cuts of which 0 were active after adding rounds of cuts (0.000 seconds)\n",
      "FlowCover was tried 0 times and created 0 cuts of which 0 were active after adding rounds of cuts (0.000 seconds)\n",
      "TwoMirCuts was tried 0 times and created 0 cuts of which 0 were active after adding rounds of cuts (0.000 seconds)\n",
      "ZeroHalf was tried 0 times and created 0 cuts of which 0 were active after adding rounds of cuts (0.000 seconds)\n",
      "\n",
      "Result - Optimal solution found\n",
      "\n",
      "Objective value:                40.00000000\n",
      "Enumerated nodes:               0\n",
      "Total iterations:               0\n",
      "Time (CPU seconds):             0.01\n",
      "Time (Wallclock seconds):       0.01\n",
      "\n",
      "Option for printingOptions changed from normal to all\n",
      "Total time (CPU seconds):       0.01   (Wallclock seconds):       0.01\n",
      "\n"
     ]
    },
    {
     "data": {
      "text/plain": "'Optimal'"
     },
     "execution_count": 135,
     "metadata": {},
     "output_type": "execute_result"
    }
   ],
   "source": [
    "status = prob.solve()\n",
    "pulp.LpStatus[status]"
   ],
   "metadata": {
    "collapsed": false,
    "pycharm": {
     "name": "#%%\n"
    }
   }
  },
  {
   "cell_type": "code",
   "execution_count": 136,
   "outputs": [
    {
     "name": "stdout",
     "output_type": "stream",
     "text": [
      "pair_(0,_10)\n",
      "{'id': 0, 'program': 'master'}\n",
      "{'id': 10, 'program': 'phd'}\n",
      "\n",
      "pair_(1,_11)\n",
      "{'id': 1, 'program': 'master'}\n",
      "{'id': 11, 'program': 'phd'}\n",
      "\n",
      "pair_(2,_15)\n",
      "{'id': 2, 'program': 'master'}\n",
      "{'id': 15, 'program': 'phd'}\n",
      "\n",
      "pair_(3,_13)\n",
      "{'id': 3, 'program': 'master'}\n",
      "{'id': 13, 'program': 'phd'}\n",
      "\n",
      "pair_(4,_18)\n",
      "{'id': 4, 'program': 'master'}\n",
      "{'id': 18, 'program': 'phd'}\n",
      "\n",
      "pair_(5,_19)\n",
      "{'id': 5, 'program': 'master'}\n",
      "{'id': 19, 'program': 'phd'}\n",
      "\n",
      "pair_(6,_16)\n",
      "{'id': 6, 'program': 'master'}\n",
      "{'id': 16, 'program': 'phd'}\n",
      "\n",
      "pair_(7,_17)\n",
      "{'id': 7, 'program': 'master'}\n",
      "{'id': 17, 'program': 'phd'}\n",
      "\n",
      "pair_(8,_14)\n",
      "{'id': 8, 'program': 'master'}\n",
      "{'id': 14, 'program': 'phd'}\n",
      "\n",
      "pair_(9,_12)\n",
      "{'id': 9, 'program': 'master'}\n",
      "{'id': 12, 'program': 'phd'}\n",
      "\n",
      "pair_(10,_0)\n",
      "{'id': 10, 'program': 'phd'}\n",
      "{'id': 0, 'program': 'master'}\n",
      "\n",
      "pair_(11,_1)\n",
      "{'id': 11, 'program': 'phd'}\n",
      "{'id': 1, 'program': 'master'}\n",
      "\n",
      "pair_(12,_9)\n",
      "{'id': 12, 'program': 'phd'}\n",
      "{'id': 9, 'program': 'master'}\n",
      "\n",
      "pair_(13,_3)\n",
      "{'id': 13, 'program': 'phd'}\n",
      "{'id': 3, 'program': 'master'}\n",
      "\n",
      "pair_(14,_8)\n",
      "{'id': 14, 'program': 'phd'}\n",
      "{'id': 8, 'program': 'master'}\n",
      "\n",
      "pair_(15,_2)\n",
      "{'id': 15, 'program': 'phd'}\n",
      "{'id': 2, 'program': 'master'}\n",
      "\n",
      "pair_(16,_6)\n",
      "{'id': 16, 'program': 'phd'}\n",
      "{'id': 6, 'program': 'master'}\n",
      "\n",
      "pair_(17,_7)\n",
      "{'id': 17, 'program': 'phd'}\n",
      "{'id': 7, 'program': 'master'}\n",
      "\n",
      "pair_(18,_4)\n",
      "{'id': 18, 'program': 'phd'}\n",
      "{'id': 4, 'program': 'master'}\n",
      "\n",
      "pair_(19,_5)\n",
      "{'id': 19, 'program': 'phd'}\n",
      "{'id': 5, 'program': 'master'}\n",
      "\n"
     ]
    }
   ],
   "source": [
    "for key in ss:\n",
    "    if pair[key].value() > 0:\n",
    "        print(pair[key])\n",
    "        print(students[key[0]])\n",
    "        print(students[key[1]])\n",
    "        print()"
   ],
   "metadata": {
    "collapsed": false,
    "pycharm": {
     "name": "#%%\n"
    }
   }
  },
  {
   "cell_type": "code",
   "execution_count": null,
   "outputs": [],
   "source": [],
   "metadata": {
    "collapsed": false,
    "pycharm": {
     "name": "#%%\n"
    }
   }
  }
 ],
 "metadata": {
  "kernelspec": {
   "display_name": "Python 3",
   "language": "python",
   "name": "python3"
  },
  "language_info": {
   "codemirror_mode": {
    "name": "ipython",
    "version": 2
   },
   "file_extension": ".py",
   "mimetype": "text/x-python",
   "name": "python",
   "nbconvert_exporter": "python",
   "pygments_lexer": "ipython2",
   "version": "2.7.6"
  }
 },
 "nbformat": 4,
 "nbformat_minor": 0
}