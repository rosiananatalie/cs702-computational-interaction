{
 "cells": [
  {
   "cell_type": "markdown",
   "metadata": {
    "collapsed": true,
    "pycharm": {
     "name": "#%% md\n"
    }
   },
   "source": [
    "# Hands-on #5: Constraint Programming"
   ]
  },
  {
   "cell_type": "code",
   "execution_count": 8,
   "outputs": [
    {
     "name": "stdout",
     "output_type": "stream",
     "text": [
      "Students: [0, 1, 2, 3, 4, 5, 6, 7, 8, 9, 10, 11, 12, 13, 14, 15, 16, 17, 18, 19]\n",
      "Partner: [0, 1, 2, 3, 4, 5, 6, 7, 8, 9, 10, 11, 12, 13, 14, 15, 16, 17, 18, 19]\n"
     ]
    }
   ],
   "source": [
    "from constraint import *\n",
    "from itertools import product\n",
    "\n",
    "num_students = 20\n",
    "students = list(range(num_students))\n",
    "partners = list(range(num_students))\n",
    "print(f\"Students: {students}\")\n",
    "print(f\"Partner: {partners}\")"
   ],
   "metadata": {
    "collapsed": false,
    "pycharm": {
     "name": "#%%\n"
    }
   }
  },
  {
   "cell_type": "code",
   "execution_count": 9,
   "outputs": [
    {
     "name": "stdout",
     "output_type": "stream",
     "text": [
      "Pairs: [(0, 0), (0, 1), (0, 2), (0, 3), (0, 4), (0, 5), (0, 6), (0, 7), (0, 8), (0, 9)]...\n"
     ]
    }
   ],
   "source": [
    "sp = list(product(students, partners))\n",
    "print(f\"Pairs: {sp[:10]}...\")"
   ],
   "metadata": {
    "collapsed": false,
    "pycharm": {
     "name": "#%%\n"
    }
   }
  },
  {
   "cell_type": "code",
   "execution_count": 10,
   "outputs": [],
   "source": [
    "problem = Problem()\n",
    "variables = problem.addVariables(sp, [0, 1])"
   ],
   "metadata": {
    "collapsed": false,
    "pycharm": {
     "name": "#%%\n"
    }
   }
  },
  {
   "cell_type": "code",
   "execution_count": 11,
   "outputs": [],
   "source": [
    "# A student can pick only one partner\n",
    "for s in students:\n",
    "    pairs = [(s, p) for p in partners]\n",
    "    problem.addConstraint(ExactSumConstraint(1), pairs)\n",
    "\n",
    "# Partners should be symmetric\n",
    "for s in students:\n",
    "    for p in partners:\n",
    "        if s < p:\n",
    "            pairs = [(s, p), (p, s)]\n",
    "            problem.addConstraint(AllEqualConstraint(), pairs)\n",
    "\n",
    "# Some students have formed a pair already\n",
    "fixe_pairs = [(2, 3), (5, 6), (7, 9), (10, 12), (14, 17), (18, 19)]\n",
    "for pair in fixe_pairs:\n",
    "    problem.addConstraint(ExactSumConstraint(1), [pair])"
   ],
   "metadata": {
    "collapsed": false,
    "pycharm": {
     "name": "#%%\n"
    }
   }
  },
  {
   "cell_type": "code",
   "execution_count": 12,
   "outputs": [],
   "source": [
    "loners = [0, 1, 4, 8]\n",
    "loner_keys = [(l, l) for l in loners]\n",
    "for l in loner_keys:\n",
    "    problem.addConstraint(ExactSumConstraint(1), [l])"
   ],
   "metadata": {
    "collapsed": false,
    "pycharm": {
     "name": "#%%\n"
    }
   }
  },
  {
   "cell_type": "code",
   "execution_count": 13,
   "outputs": [
    {
     "name": "stdout",
     "output_type": "stream",
     "text": [
      "The size of feasible solutions is: 10\n",
      "[((2, 3), 1), ((3, 2), 1), ((5, 6), 1), ((6, 5), 1), ((7, 9), 1), ((9, 7), 1), ((10, 12), 1), ((12, 10), 1), ((14, 17), 1), ((17, 14), 1), ((18, 19), 1), ((19, 18), 1), ((11, 13), 1), ((13, 11), 1), ((15, 16), 1), ((16, 15), 1), ((0, 0), 1), ((1, 1), 1), ((4, 4), 1), ((8, 8), 1)]\n",
      "[((2, 3), 1), ((3, 2), 1), ((5, 6), 1), ((6, 5), 1), ((7, 9), 1), ((9, 7), 1), ((10, 12), 1), ((12, 10), 1), ((14, 17), 1), ((17, 14), 1), ((18, 19), 1), ((19, 18), 1), ((11, 13), 1), ((13, 11), 1), ((0, 0), 1), ((1, 1), 1), ((4, 4), 1), ((8, 8), 1), ((15, 15), 1), ((16, 16), 1)]\n",
      "[((2, 3), 1), ((3, 2), 1), ((5, 6), 1), ((6, 5), 1), ((7, 9), 1), ((9, 7), 1), ((10, 12), 1), ((12, 10), 1), ((14, 17), 1), ((17, 14), 1), ((18, 19), 1), ((19, 18), 1), ((11, 15), 1), ((15, 11), 1), ((13, 16), 1), ((16, 13), 1), ((0, 0), 1), ((1, 1), 1), ((4, 4), 1), ((8, 8), 1)]\n",
      "[((2, 3), 1), ((3, 2), 1), ((5, 6), 1), ((6, 5), 1), ((7, 9), 1), ((9, 7), 1), ((10, 12), 1), ((12, 10), 1), ((14, 17), 1), ((17, 14), 1), ((18, 19), 1), ((19, 18), 1), ((11, 15), 1), ((15, 11), 1), ((0, 0), 1), ((1, 1), 1), ((4, 4), 1), ((8, 8), 1), ((13, 13), 1), ((16, 16), 1)]\n",
      "[((2, 3), 1), ((3, 2), 1), ((5, 6), 1), ((6, 5), 1), ((7, 9), 1), ((9, 7), 1), ((10, 12), 1), ((12, 10), 1), ((14, 17), 1), ((17, 14), 1), ((18, 19), 1), ((19, 18), 1), ((11, 16), 1), ((16, 11), 1), ((13, 15), 1), ((15, 13), 1), ((0, 0), 1), ((1, 1), 1), ((4, 4), 1), ((8, 8), 1)]\n",
      "[((2, 3), 1), ((3, 2), 1), ((5, 6), 1), ((6, 5), 1), ((7, 9), 1), ((9, 7), 1), ((10, 12), 1), ((12, 10), 1), ((14, 17), 1), ((17, 14), 1), ((18, 19), 1), ((19, 18), 1), ((11, 16), 1), ((16, 11), 1), ((0, 0), 1), ((1, 1), 1), ((4, 4), 1), ((8, 8), 1), ((13, 13), 1), ((15, 15), 1)]\n",
      "[((2, 3), 1), ((3, 2), 1), ((5, 6), 1), ((6, 5), 1), ((7, 9), 1), ((9, 7), 1), ((10, 12), 1), ((12, 10), 1), ((14, 17), 1), ((17, 14), 1), ((18, 19), 1), ((19, 18), 1), ((13, 15), 1), ((15, 13), 1), ((0, 0), 1), ((1, 1), 1), ((4, 4), 1), ((8, 8), 1), ((11, 11), 1), ((16, 16), 1)]\n",
      "[((2, 3), 1), ((3, 2), 1), ((5, 6), 1), ((6, 5), 1), ((7, 9), 1), ((9, 7), 1), ((10, 12), 1), ((12, 10), 1), ((14, 17), 1), ((17, 14), 1), ((18, 19), 1), ((19, 18), 1), ((13, 16), 1), ((16, 13), 1), ((0, 0), 1), ((1, 1), 1), ((4, 4), 1), ((8, 8), 1), ((11, 11), 1), ((15, 15), 1)]\n",
      "[((2, 3), 1), ((3, 2), 1), ((5, 6), 1), ((6, 5), 1), ((7, 9), 1), ((9, 7), 1), ((10, 12), 1), ((12, 10), 1), ((14, 17), 1), ((17, 14), 1), ((18, 19), 1), ((19, 18), 1), ((15, 16), 1), ((16, 15), 1), ((0, 0), 1), ((1, 1), 1), ((4, 4), 1), ((8, 8), 1), ((11, 11), 1), ((13, 13), 1)]\n",
      "[((2, 3), 1), ((3, 2), 1), ((5, 6), 1), ((6, 5), 1), ((7, 9), 1), ((9, 7), 1), ((10, 12), 1), ((12, 10), 1), ((14, 17), 1), ((17, 14), 1), ((18, 19), 1), ((19, 18), 1), ((0, 0), 1), ((1, 1), 1), ((4, 4), 1), ((8, 8), 1), ((11, 11), 1), ((13, 13), 1), ((15, 15), 1), ((16, 16), 1)]\n"
     ]
    }
   ],
   "source": [
    "# Get all feasible solutions\n",
    "solutions = problem.getSolutions()\n",
    "print(f\"The size of feasible solutions is: {len(solutions)}\")\n",
    "\n",
    "for sol in solutions:\n",
    "    sol = list(filter(lambda item: item[1] == 1, sol.items()))\n",
    "    print(sol)"
   ],
   "metadata": {
    "collapsed": false,
    "pycharm": {
     "name": "#%%\n"
    }
   }
  },
  {
   "cell_type": "code",
   "execution_count": null,
   "outputs": [],
   "source": [],
   "metadata": {
    "collapsed": false,
    "pycharm": {
     "name": "#%%\n"
    }
   }
  }
 ],
 "metadata": {
  "kernelspec": {
   "display_name": "Python 3",
   "language": "python",
   "name": "python3"
  },
  "language_info": {
   "codemirror_mode": {
    "name": "ipython",
    "version": 2
   },
   "file_extension": ".py",
   "mimetype": "text/x-python",
   "name": "python",
   "nbconvert_exporter": "python",
   "pygments_lexer": "ipython2",
   "version": "2.7.6"
  }
 },
 "nbformat": 4,
 "nbformat_minor": 0
}